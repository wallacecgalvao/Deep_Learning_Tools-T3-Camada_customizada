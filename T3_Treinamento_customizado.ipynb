{
 "cells": [
  {
   "cell_type": "markdown",
   "metadata": {
    "id": "AWqcoPhU3RJN"
   },
   "source": [
    "# Trabalho #3 - Treinamento customizado\n",
    "\n",
    "Nesse trabalho você vai treinar uma RNA para prever se um tumor é maligno ou benigno usando o conjunto de dados \"Breast Cancer Dataset\", disponível no UCI Machine Learning Repository (https://archive.ics.uci.edu/ml/datasets/breast+cancer+wisconsin+(original)\n",
    "\n",
    "\n",
    "Esse conjunto de dados foi obtido pelo Hospital da University de Wisconsin, Madison por: O. L. Mangasarian e W. H. Wolberge, \"Cancer diagnosis via linear programming\", SIAM News, Volume 23, Number 5, September 1990, pp 1 & 18."
   ]
  },
  {
   "cell_type": "markdown",
   "metadata": {
    "id": "mAZuiJnNpwBQ"
   },
   "source": [
    "## Coloque o seu nome:\n",
    "\n",
    "Nome: Wallace de Castro Galvão"
   ]
  },
  {
   "cell_type": "markdown",
   "metadata": {
    "id": "st5AIBFZ5mEQ"
   },
   "source": [
    "## 1. Importar bibliotecas\n",
    "\n",
    "Execute a célula abaixo para importar as principais bilbiotecas necessárias."
   ]
  },
  {
   "cell_type": "code",
   "execution_count": 2,
   "metadata": {
    "id": "JkMXve8XuN5X"
   },
   "outputs": [
    {
     "name": "stderr",
     "output_type": "stream",
     "text": [
      "2024-12-04 21:59:59.503542: I external/local_xla/xla/tsl/cuda/cudart_stub.cc:32] Could not find cuda drivers on your machine, GPU will not be used.\n",
      "2024-12-04 21:59:59.506708: I external/local_xla/xla/tsl/cuda/cudart_stub.cc:32] Could not find cuda drivers on your machine, GPU will not be used.\n",
      "2024-12-04 21:59:59.515029: E external/local_xla/xla/stream_executor/cuda/cuda_fft.cc:477] Unable to register cuFFT factory: Attempting to register factory for plugin cuFFT when one has already been registered\n",
      "WARNING: All log messages before absl::InitializeLog() is called are written to STDERR\n",
      "E0000 00:00:1733349599.529278    3679 cuda_dnn.cc:8310] Unable to register cuDNN factory: Attempting to register factory for plugin cuDNN when one has already been registered\n",
      "E0000 00:00:1733349599.533607    3679 cuda_blas.cc:1418] Unable to register cuBLAS factory: Attempting to register factory for plugin cuBLAS when one has already been registered\n",
      "2024-12-04 21:59:59.549600: I tensorflow/core/platform/cpu_feature_guard.cc:210] This TensorFlow binary is optimized to use available CPU instructions in performance-critical operations.\n",
      "To enable the following instructions: AVX2 FMA, in other operations, rebuild TensorFlow with the appropriate compiler flags.\n"
     ]
    }
   ],
   "source": [
    "import tensorflow as tf\n",
    "import numpy as np\n",
    "import matplotlib.pyplot as plt\n",
    "import pandas as pd"
   ]
  },
  {
   "cell_type": "markdown",
   "metadata": {
    "id": "yUc3HpEQ5s6U"
   },
   "source": [
    "## 2.  Carregar dados\n",
    "\n",
    "Esse conjunto de dados possui 699 exemplos, sendo que cada exemplo é composto por 10 características ontidas por exames de células de tecidos que podem ser da classe de cancer maligno ou benigino.\n",
    "\n",
    "As características de cada exemplo são as seguintes:\n",
    "\n",
    "1. Número de identificação da amostra: id\n",
    "2. Espessura do aglomerado: 1 - 10\n",
    "3. Uniformidade do tamanho da célula: 1 - 10\n",
    "4. Uniformidade da forma celular: 1 - 10\n",
    "5. Adesão Marginal: 1 - 10\n",
    "6. Tamanho de célula epitelial única: 1 - 10\n",
    "7. Núcleos expostos: 1 - 10\n",
    "8. Cromatina Suave: 1 - 10\n",
    "9. Nucléos normais: 1 - 10\n",
    "10. Mitoses: 1 - 10\n",
    "11. Casse: 2 para benigno e 4 para maligno\n",
    "\n",
    "Execute a célula abaixo para carregar o conjunto de dados e criar um DataFrame Pandas. Para facilitar o entendimento dos dados vamos definir explicitamente os nomes das colunas porque o arquivo CSV original não possui o cabeçalho com os nomes das colunas."
   ]
  },
  {
   "cell_type": "code",
   "execution_count": 3,
   "metadata": {
    "id": "HVh-W73J5TjS"
   },
   "outputs": [
    {
     "name": "stdout",
     "output_type": "stream",
     "text": [
      "Downloading data from https://archive.ics.uci.edu/ml/machine-learning-databases/breast-cancer-wisconsin/breast-cancer-wisconsin.data\n",
      "   8192/Unknown \u001b[1m0s\u001b[0m 9us/step"
     ]
    }
   ],
   "source": [
    "DATASET_URL = \"https://archive.ics.uci.edu/ml/machine-learning-databases/breast-cancer-wisconsin/breast-cancer-wisconsin.data\"\n",
    "data_file = tf.keras.utils.get_file(\"breast_cancer.csv\", DATASET_URL)\n",
    "col_names = [\"id\", \"espessura\", \"un_tam_cel\", \"un_forma_cel\", \"adesao_marginal\", \"tam_cel_epit\", \"nucleos_exp\", \"cromatina\", \"nucleos_normais\", \"mitoses\", \"classe\"]\n",
    "df = pd.read_csv(data_file, names=col_names, header=None)"
   ]
  },
  {
   "cell_type": "markdown",
   "metadata": {
    "id": "VPFD1yufpwBS"
   },
   "source": [
    "Execute as duas células abaixo para visualizar os dados e verificar o número de exemplos."
   ]
  },
  {
   "cell_type": "code",
   "execution_count": 4,
   "metadata": {
    "id": "XEv8vS_P6HaV"
   },
   "outputs": [
    {
     "data": {
      "text/html": [
       "<div>\n",
       "<style scoped>\n",
       "    .dataframe tbody tr th:only-of-type {\n",
       "        vertical-align: middle;\n",
       "    }\n",
       "\n",
       "    .dataframe tbody tr th {\n",
       "        vertical-align: top;\n",
       "    }\n",
       "\n",
       "    .dataframe thead th {\n",
       "        text-align: right;\n",
       "    }\n",
       "</style>\n",
       "<table border=\"1\" class=\"dataframe\">\n",
       "  <thead>\n",
       "    <tr style=\"text-align: right;\">\n",
       "      <th></th>\n",
       "      <th>id</th>\n",
       "      <th>espessura</th>\n",
       "      <th>un_tam_cel</th>\n",
       "      <th>un_forma_cel</th>\n",
       "      <th>adesao_marginal</th>\n",
       "      <th>tam_cel_epit</th>\n",
       "      <th>nucleos_exp</th>\n",
       "      <th>cromatina</th>\n",
       "      <th>nucleos_normais</th>\n",
       "      <th>mitoses</th>\n",
       "      <th>classe</th>\n",
       "    </tr>\n",
       "  </thead>\n",
       "  <tbody>\n",
       "    <tr>\n",
       "      <th>0</th>\n",
       "      <td>1000025</td>\n",
       "      <td>5</td>\n",
       "      <td>1</td>\n",
       "      <td>1</td>\n",
       "      <td>1</td>\n",
       "      <td>2</td>\n",
       "      <td>1</td>\n",
       "      <td>3</td>\n",
       "      <td>1</td>\n",
       "      <td>1</td>\n",
       "      <td>2</td>\n",
       "    </tr>\n",
       "    <tr>\n",
       "      <th>1</th>\n",
       "      <td>1002945</td>\n",
       "      <td>5</td>\n",
       "      <td>4</td>\n",
       "      <td>4</td>\n",
       "      <td>5</td>\n",
       "      <td>7</td>\n",
       "      <td>10</td>\n",
       "      <td>3</td>\n",
       "      <td>2</td>\n",
       "      <td>1</td>\n",
       "      <td>2</td>\n",
       "    </tr>\n",
       "    <tr>\n",
       "      <th>2</th>\n",
       "      <td>1015425</td>\n",
       "      <td>3</td>\n",
       "      <td>1</td>\n",
       "      <td>1</td>\n",
       "      <td>1</td>\n",
       "      <td>2</td>\n",
       "      <td>2</td>\n",
       "      <td>3</td>\n",
       "      <td>1</td>\n",
       "      <td>1</td>\n",
       "      <td>2</td>\n",
       "    </tr>\n",
       "    <tr>\n",
       "      <th>3</th>\n",
       "      <td>1016277</td>\n",
       "      <td>6</td>\n",
       "      <td>8</td>\n",
       "      <td>8</td>\n",
       "      <td>1</td>\n",
       "      <td>3</td>\n",
       "      <td>4</td>\n",
       "      <td>3</td>\n",
       "      <td>7</td>\n",
       "      <td>1</td>\n",
       "      <td>2</td>\n",
       "    </tr>\n",
       "    <tr>\n",
       "      <th>4</th>\n",
       "      <td>1017023</td>\n",
       "      <td>4</td>\n",
       "      <td>1</td>\n",
       "      <td>1</td>\n",
       "      <td>3</td>\n",
       "      <td>2</td>\n",
       "      <td>1</td>\n",
       "      <td>3</td>\n",
       "      <td>1</td>\n",
       "      <td>1</td>\n",
       "      <td>2</td>\n",
       "    </tr>\n",
       "  </tbody>\n",
       "</table>\n",
       "</div>"
      ],
      "text/plain": [
       "        id  espessura  un_tam_cel  un_forma_cel  adesao_marginal  \\\n",
       "0  1000025          5           1             1                1   \n",
       "1  1002945          5           4             4                5   \n",
       "2  1015425          3           1             1                1   \n",
       "3  1016277          6           8             8                1   \n",
       "4  1017023          4           1             1                3   \n",
       "\n",
       "   tam_cel_epit nucleos_exp  cromatina  nucleos_normais  mitoses  classe  \n",
       "0             2           1          3                1        1       2  \n",
       "1             7          10          3                2        1       2  \n",
       "2             2           2          3                1        1       2  \n",
       "3             3           4          3                7        1       2  \n",
       "4             2           1          3                1        1       2  "
      ]
     },
     "execution_count": 4,
     "metadata": {},
     "output_type": "execute_result"
    }
   ],
   "source": [
    "df.head()"
   ]
  },
  {
   "cell_type": "code",
   "execution_count": 5,
   "metadata": {
    "id": "BkpK3ndspwBS"
   },
   "outputs": [
    {
     "name": "stdout",
     "output_type": "stream",
     "text": [
      "Dimensão dos dados: (699, 11)\n"
     ]
    }
   ],
   "source": [
    "print('Dimensão dos dados:', df.shape)"
   ]
  },
  {
   "cell_type": "markdown",
   "metadata": {
    "id": "NvvbnFL36L85"
   },
   "source": [
    "## 3. Pré-processamento dos dados\n",
    "\n",
    "Os dados precisam ser pré-processados para poderem ser utilzados por uma RNA.\n",
    "\n",
    "As seguintes etapas devem ser realizadas no processamento:\n",
    "\n",
    "1. Retirar a coluna da identificação da amostra (\"id\");\n",
    "2. Eliminar dados que possuem valores \"desconhecidos\";\n",
    "3. Transformar classes de índices 2 e 4 para 0 e 1, 0 é benigno e 1 é maligno;\n",
    "4. Dividir dados nos conjuntos de treinamento e teste;\n",
    "5. Separar coluna das classes (dados de saídas reais) das outras colunas (dados de entradas);\n",
    "6. Normalizar os dados de entrada;\n",
    "7. Conveter DataFrame Pandas para tf.Tensor."
   ]
  },
  {
   "cell_type": "markdown",
   "metadata": {
    "id": "iBCNlUVgpwBT"
   },
   "source": [
    "### 3.1 Retirar coluna de identificação da amostra (\"id\")\n",
    "\n",
    "Execute a célula baixo para realizar essa operação."
   ]
  },
  {
   "cell_type": "code",
   "execution_count": 6,
   "metadata": {
    "id": "nDeXwHdA5uUN"
   },
   "outputs": [
    {
     "data": {
      "text/html": [
       "<div>\n",
       "<style scoped>\n",
       "    .dataframe tbody tr th:only-of-type {\n",
       "        vertical-align: middle;\n",
       "    }\n",
       "\n",
       "    .dataframe tbody tr th {\n",
       "        vertical-align: top;\n",
       "    }\n",
       "\n",
       "    .dataframe thead th {\n",
       "        text-align: right;\n",
       "    }\n",
       "</style>\n",
       "<table border=\"1\" class=\"dataframe\">\n",
       "  <thead>\n",
       "    <tr style=\"text-align: right;\">\n",
       "      <th></th>\n",
       "      <th>espessura</th>\n",
       "      <th>un_tam_cel</th>\n",
       "      <th>un_forma_cel</th>\n",
       "      <th>adesao_marginal</th>\n",
       "      <th>tam_cel_epit</th>\n",
       "      <th>nucleos_exp</th>\n",
       "      <th>cromatina</th>\n",
       "      <th>nucleos_normais</th>\n",
       "      <th>mitoses</th>\n",
       "      <th>classe</th>\n",
       "    </tr>\n",
       "  </thead>\n",
       "  <tbody>\n",
       "    <tr>\n",
       "      <th>0</th>\n",
       "      <td>5</td>\n",
       "      <td>1</td>\n",
       "      <td>1</td>\n",
       "      <td>1</td>\n",
       "      <td>2</td>\n",
       "      <td>1</td>\n",
       "      <td>3</td>\n",
       "      <td>1</td>\n",
       "      <td>1</td>\n",
       "      <td>2</td>\n",
       "    </tr>\n",
       "    <tr>\n",
       "      <th>1</th>\n",
       "      <td>5</td>\n",
       "      <td>4</td>\n",
       "      <td>4</td>\n",
       "      <td>5</td>\n",
       "      <td>7</td>\n",
       "      <td>10</td>\n",
       "      <td>3</td>\n",
       "      <td>2</td>\n",
       "      <td>1</td>\n",
       "      <td>2</td>\n",
       "    </tr>\n",
       "    <tr>\n",
       "      <th>2</th>\n",
       "      <td>3</td>\n",
       "      <td>1</td>\n",
       "      <td>1</td>\n",
       "      <td>1</td>\n",
       "      <td>2</td>\n",
       "      <td>2</td>\n",
       "      <td>3</td>\n",
       "      <td>1</td>\n",
       "      <td>1</td>\n",
       "      <td>2</td>\n",
       "    </tr>\n",
       "    <tr>\n",
       "      <th>3</th>\n",
       "      <td>6</td>\n",
       "      <td>8</td>\n",
       "      <td>8</td>\n",
       "      <td>1</td>\n",
       "      <td>3</td>\n",
       "      <td>4</td>\n",
       "      <td>3</td>\n",
       "      <td>7</td>\n",
       "      <td>1</td>\n",
       "      <td>2</td>\n",
       "    </tr>\n",
       "    <tr>\n",
       "      <th>4</th>\n",
       "      <td>4</td>\n",
       "      <td>1</td>\n",
       "      <td>1</td>\n",
       "      <td>3</td>\n",
       "      <td>2</td>\n",
       "      <td>1</td>\n",
       "      <td>3</td>\n",
       "      <td>1</td>\n",
       "      <td>1</td>\n",
       "      <td>2</td>\n",
       "    </tr>\n",
       "  </tbody>\n",
       "</table>\n",
       "</div>"
      ],
      "text/plain": [
       "   espessura  un_tam_cel  un_forma_cel  adesao_marginal  tam_cel_epit  \\\n",
       "0          5           1             1                1             2   \n",
       "1          5           4             4                5             7   \n",
       "2          3           1             1                1             2   \n",
       "3          6           8             8                1             3   \n",
       "4          4           1             1                3             2   \n",
       "\n",
       "  nucleos_exp  cromatina  nucleos_normais  mitoses  classe  \n",
       "0           1          3                1        1       2  \n",
       "1          10          3                2        1       2  \n",
       "2           2          3                1        1       2  \n",
       "3           4          3                7        1       2  \n",
       "4           1          3                1        1       2  "
      ]
     },
     "execution_count": 6,
     "metadata": {},
     "output_type": "execute_result"
    }
   ],
   "source": [
    "df.pop(\"id\")\n",
    "df.head()"
   ]
  },
  {
   "cell_type": "markdown",
   "metadata": {
    "id": "ubw5LueA6ZEY"
   },
   "source": [
    "### 3.2 Eliminar dados \"desconhecidos\"\n",
    "\n",
    "Se você inspecionar os dados vai verificar que existem valores \"desconhecidos\" na coluna de \"nucleos_exp\". Para verificar quais amostras possuem valores desconhecidos execute a célula abaixo."
   ]
  },
  {
   "cell_type": "code",
   "execution_count": 7,
   "metadata": {
    "id": "aSXKVPOEpwBT"
   },
   "outputs": [
    {
     "data": {
      "text/html": [
       "<div>\n",
       "<style scoped>\n",
       "    .dataframe tbody tr th:only-of-type {\n",
       "        vertical-align: middle;\n",
       "    }\n",
       "\n",
       "    .dataframe tbody tr th {\n",
       "        vertical-align: top;\n",
       "    }\n",
       "\n",
       "    .dataframe thead th {\n",
       "        text-align: right;\n",
       "    }\n",
       "</style>\n",
       "<table border=\"1\" class=\"dataframe\">\n",
       "  <thead>\n",
       "    <tr style=\"text-align: right;\">\n",
       "      <th></th>\n",
       "      <th>espessura</th>\n",
       "      <th>un_tam_cel</th>\n",
       "      <th>un_forma_cel</th>\n",
       "      <th>adesao_marginal</th>\n",
       "      <th>tam_cel_epit</th>\n",
       "      <th>nucleos_exp</th>\n",
       "      <th>cromatina</th>\n",
       "      <th>nucleos_normais</th>\n",
       "      <th>mitoses</th>\n",
       "      <th>classe</th>\n",
       "    </tr>\n",
       "  </thead>\n",
       "  <tbody>\n",
       "    <tr>\n",
       "      <th>23</th>\n",
       "      <td>8</td>\n",
       "      <td>4</td>\n",
       "      <td>5</td>\n",
       "      <td>1</td>\n",
       "      <td>2</td>\n",
       "      <td>?</td>\n",
       "      <td>7</td>\n",
       "      <td>3</td>\n",
       "      <td>1</td>\n",
       "      <td>4</td>\n",
       "    </tr>\n",
       "    <tr>\n",
       "      <th>40</th>\n",
       "      <td>6</td>\n",
       "      <td>6</td>\n",
       "      <td>6</td>\n",
       "      <td>9</td>\n",
       "      <td>6</td>\n",
       "      <td>?</td>\n",
       "      <td>7</td>\n",
       "      <td>8</td>\n",
       "      <td>1</td>\n",
       "      <td>2</td>\n",
       "    </tr>\n",
       "    <tr>\n",
       "      <th>139</th>\n",
       "      <td>1</td>\n",
       "      <td>1</td>\n",
       "      <td>1</td>\n",
       "      <td>1</td>\n",
       "      <td>1</td>\n",
       "      <td>?</td>\n",
       "      <td>2</td>\n",
       "      <td>1</td>\n",
       "      <td>1</td>\n",
       "      <td>2</td>\n",
       "    </tr>\n",
       "    <tr>\n",
       "      <th>145</th>\n",
       "      <td>1</td>\n",
       "      <td>1</td>\n",
       "      <td>3</td>\n",
       "      <td>1</td>\n",
       "      <td>2</td>\n",
       "      <td>?</td>\n",
       "      <td>2</td>\n",
       "      <td>1</td>\n",
       "      <td>1</td>\n",
       "      <td>2</td>\n",
       "    </tr>\n",
       "    <tr>\n",
       "      <th>158</th>\n",
       "      <td>1</td>\n",
       "      <td>1</td>\n",
       "      <td>2</td>\n",
       "      <td>1</td>\n",
       "      <td>3</td>\n",
       "      <td>?</td>\n",
       "      <td>1</td>\n",
       "      <td>1</td>\n",
       "      <td>1</td>\n",
       "      <td>2</td>\n",
       "    </tr>\n",
       "    <tr>\n",
       "      <th>164</th>\n",
       "      <td>5</td>\n",
       "      <td>1</td>\n",
       "      <td>1</td>\n",
       "      <td>1</td>\n",
       "      <td>2</td>\n",
       "      <td>?</td>\n",
       "      <td>3</td>\n",
       "      <td>1</td>\n",
       "      <td>1</td>\n",
       "      <td>2</td>\n",
       "    </tr>\n",
       "    <tr>\n",
       "      <th>235</th>\n",
       "      <td>3</td>\n",
       "      <td>1</td>\n",
       "      <td>4</td>\n",
       "      <td>1</td>\n",
       "      <td>2</td>\n",
       "      <td>?</td>\n",
       "      <td>3</td>\n",
       "      <td>1</td>\n",
       "      <td>1</td>\n",
       "      <td>2</td>\n",
       "    </tr>\n",
       "    <tr>\n",
       "      <th>249</th>\n",
       "      <td>3</td>\n",
       "      <td>1</td>\n",
       "      <td>1</td>\n",
       "      <td>1</td>\n",
       "      <td>2</td>\n",
       "      <td>?</td>\n",
       "      <td>3</td>\n",
       "      <td>1</td>\n",
       "      <td>1</td>\n",
       "      <td>2</td>\n",
       "    </tr>\n",
       "    <tr>\n",
       "      <th>275</th>\n",
       "      <td>3</td>\n",
       "      <td>1</td>\n",
       "      <td>3</td>\n",
       "      <td>1</td>\n",
       "      <td>2</td>\n",
       "      <td>?</td>\n",
       "      <td>2</td>\n",
       "      <td>1</td>\n",
       "      <td>1</td>\n",
       "      <td>2</td>\n",
       "    </tr>\n",
       "    <tr>\n",
       "      <th>292</th>\n",
       "      <td>8</td>\n",
       "      <td>8</td>\n",
       "      <td>8</td>\n",
       "      <td>1</td>\n",
       "      <td>2</td>\n",
       "      <td>?</td>\n",
       "      <td>6</td>\n",
       "      <td>10</td>\n",
       "      <td>1</td>\n",
       "      <td>4</td>\n",
       "    </tr>\n",
       "    <tr>\n",
       "      <th>294</th>\n",
       "      <td>1</td>\n",
       "      <td>1</td>\n",
       "      <td>1</td>\n",
       "      <td>1</td>\n",
       "      <td>2</td>\n",
       "      <td>?</td>\n",
       "      <td>2</td>\n",
       "      <td>1</td>\n",
       "      <td>1</td>\n",
       "      <td>2</td>\n",
       "    </tr>\n",
       "    <tr>\n",
       "      <th>297</th>\n",
       "      <td>5</td>\n",
       "      <td>4</td>\n",
       "      <td>3</td>\n",
       "      <td>1</td>\n",
       "      <td>2</td>\n",
       "      <td>?</td>\n",
       "      <td>2</td>\n",
       "      <td>3</td>\n",
       "      <td>1</td>\n",
       "      <td>2</td>\n",
       "    </tr>\n",
       "    <tr>\n",
       "      <th>315</th>\n",
       "      <td>4</td>\n",
       "      <td>6</td>\n",
       "      <td>5</td>\n",
       "      <td>6</td>\n",
       "      <td>7</td>\n",
       "      <td>?</td>\n",
       "      <td>4</td>\n",
       "      <td>9</td>\n",
       "      <td>1</td>\n",
       "      <td>2</td>\n",
       "    </tr>\n",
       "    <tr>\n",
       "      <th>321</th>\n",
       "      <td>3</td>\n",
       "      <td>1</td>\n",
       "      <td>1</td>\n",
       "      <td>1</td>\n",
       "      <td>2</td>\n",
       "      <td>?</td>\n",
       "      <td>3</td>\n",
       "      <td>1</td>\n",
       "      <td>1</td>\n",
       "      <td>2</td>\n",
       "    </tr>\n",
       "    <tr>\n",
       "      <th>411</th>\n",
       "      <td>1</td>\n",
       "      <td>1</td>\n",
       "      <td>1</td>\n",
       "      <td>1</td>\n",
       "      <td>1</td>\n",
       "      <td>?</td>\n",
       "      <td>2</td>\n",
       "      <td>1</td>\n",
       "      <td>1</td>\n",
       "      <td>2</td>\n",
       "    </tr>\n",
       "    <tr>\n",
       "      <th>617</th>\n",
       "      <td>1</td>\n",
       "      <td>1</td>\n",
       "      <td>1</td>\n",
       "      <td>1</td>\n",
       "      <td>1</td>\n",
       "      <td>?</td>\n",
       "      <td>1</td>\n",
       "      <td>1</td>\n",
       "      <td>1</td>\n",
       "      <td>2</td>\n",
       "    </tr>\n",
       "  </tbody>\n",
       "</table>\n",
       "</div>"
      ],
      "text/plain": [
       "     espessura  un_tam_cel  un_forma_cel  adesao_marginal  tam_cel_epit  \\\n",
       "23           8           4             5                1             2   \n",
       "40           6           6             6                9             6   \n",
       "139          1           1             1                1             1   \n",
       "145          1           1             3                1             2   \n",
       "158          1           1             2                1             3   \n",
       "164          5           1             1                1             2   \n",
       "235          3           1             4                1             2   \n",
       "249          3           1             1                1             2   \n",
       "275          3           1             3                1             2   \n",
       "292          8           8             8                1             2   \n",
       "294          1           1             1                1             2   \n",
       "297          5           4             3                1             2   \n",
       "315          4           6             5                6             7   \n",
       "321          3           1             1                1             2   \n",
       "411          1           1             1                1             1   \n",
       "617          1           1             1                1             1   \n",
       "\n",
       "    nucleos_exp  cromatina  nucleos_normais  mitoses  classe  \n",
       "23            ?          7                3        1       4  \n",
       "40            ?          7                8        1       2  \n",
       "139           ?          2                1        1       2  \n",
       "145           ?          2                1        1       2  \n",
       "158           ?          1                1        1       2  \n",
       "164           ?          3                1        1       2  \n",
       "235           ?          3                1        1       2  \n",
       "249           ?          3                1        1       2  \n",
       "275           ?          2                1        1       2  \n",
       "292           ?          6               10        1       4  \n",
       "294           ?          2                1        1       2  \n",
       "297           ?          2                3        1       2  \n",
       "315           ?          4                9        1       2  \n",
       "321           ?          3                1        1       2  \n",
       "411           ?          2                1        1       2  \n",
       "617           ?          1                1        1       2  "
      ]
     },
     "execution_count": 7,
     "metadata": {},
     "output_type": "execute_result"
    }
   ],
   "source": [
    "df[df[\"nucleos_exp\"] == '?']"
   ]
  },
  {
   "cell_type": "markdown",
   "metadata": {
    "id": "5YKTClGWpwBT"
   },
   "source": [
    "Deve-se eliminar as linhas que possuem dados desse tipo. Além disso, a coluna \"nucleos_exp\" não é uma coluna numérica e, portanto, deve ser convertida para valores numéricos. Execute a célula abaixo para realizar essas operações."
   ]
  },
  {
   "cell_type": "code",
   "execution_count": 8,
   "metadata": {
    "id": "MCcOrl1ITVhr"
   },
   "outputs": [
    {
     "data": {
      "text/html": [
       "<div>\n",
       "<style scoped>\n",
       "    .dataframe tbody tr th:only-of-type {\n",
       "        vertical-align: middle;\n",
       "    }\n",
       "\n",
       "    .dataframe tbody tr th {\n",
       "        vertical-align: top;\n",
       "    }\n",
       "\n",
       "    .dataframe thead th {\n",
       "        text-align: right;\n",
       "    }\n",
       "</style>\n",
       "<table border=\"1\" class=\"dataframe\">\n",
       "  <thead>\n",
       "    <tr style=\"text-align: right;\">\n",
       "      <th></th>\n",
       "      <th>espessura</th>\n",
       "      <th>un_tam_cel</th>\n",
       "      <th>un_forma_cel</th>\n",
       "      <th>adesao_marginal</th>\n",
       "      <th>tam_cel_epit</th>\n",
       "      <th>nucleos_exp</th>\n",
       "      <th>cromatina</th>\n",
       "      <th>nucleos_normais</th>\n",
       "      <th>mitoses</th>\n",
       "      <th>classe</th>\n",
       "    </tr>\n",
       "  </thead>\n",
       "  <tbody>\n",
       "    <tr>\n",
       "      <th>0</th>\n",
       "      <td>5</td>\n",
       "      <td>1</td>\n",
       "      <td>1</td>\n",
       "      <td>1</td>\n",
       "      <td>2</td>\n",
       "      <td>1</td>\n",
       "      <td>3</td>\n",
       "      <td>1</td>\n",
       "      <td>1</td>\n",
       "      <td>2</td>\n",
       "    </tr>\n",
       "    <tr>\n",
       "      <th>1</th>\n",
       "      <td>5</td>\n",
       "      <td>4</td>\n",
       "      <td>4</td>\n",
       "      <td>5</td>\n",
       "      <td>7</td>\n",
       "      <td>10</td>\n",
       "      <td>3</td>\n",
       "      <td>2</td>\n",
       "      <td>1</td>\n",
       "      <td>2</td>\n",
       "    </tr>\n",
       "    <tr>\n",
       "      <th>2</th>\n",
       "      <td>3</td>\n",
       "      <td>1</td>\n",
       "      <td>1</td>\n",
       "      <td>1</td>\n",
       "      <td>2</td>\n",
       "      <td>2</td>\n",
       "      <td>3</td>\n",
       "      <td>1</td>\n",
       "      <td>1</td>\n",
       "      <td>2</td>\n",
       "    </tr>\n",
       "    <tr>\n",
       "      <th>3</th>\n",
       "      <td>6</td>\n",
       "      <td>8</td>\n",
       "      <td>8</td>\n",
       "      <td>1</td>\n",
       "      <td>3</td>\n",
       "      <td>4</td>\n",
       "      <td>3</td>\n",
       "      <td>7</td>\n",
       "      <td>1</td>\n",
       "      <td>2</td>\n",
       "    </tr>\n",
       "    <tr>\n",
       "      <th>4</th>\n",
       "      <td>4</td>\n",
       "      <td>1</td>\n",
       "      <td>1</td>\n",
       "      <td>3</td>\n",
       "      <td>2</td>\n",
       "      <td>1</td>\n",
       "      <td>3</td>\n",
       "      <td>1</td>\n",
       "      <td>1</td>\n",
       "      <td>2</td>\n",
       "    </tr>\n",
       "    <tr>\n",
       "      <th>...</th>\n",
       "      <td>...</td>\n",
       "      <td>...</td>\n",
       "      <td>...</td>\n",
       "      <td>...</td>\n",
       "      <td>...</td>\n",
       "      <td>...</td>\n",
       "      <td>...</td>\n",
       "      <td>...</td>\n",
       "      <td>...</td>\n",
       "      <td>...</td>\n",
       "    </tr>\n",
       "    <tr>\n",
       "      <th>694</th>\n",
       "      <td>3</td>\n",
       "      <td>1</td>\n",
       "      <td>1</td>\n",
       "      <td>1</td>\n",
       "      <td>3</td>\n",
       "      <td>2</td>\n",
       "      <td>1</td>\n",
       "      <td>1</td>\n",
       "      <td>1</td>\n",
       "      <td>2</td>\n",
       "    </tr>\n",
       "    <tr>\n",
       "      <th>695</th>\n",
       "      <td>2</td>\n",
       "      <td>1</td>\n",
       "      <td>1</td>\n",
       "      <td>1</td>\n",
       "      <td>2</td>\n",
       "      <td>1</td>\n",
       "      <td>1</td>\n",
       "      <td>1</td>\n",
       "      <td>1</td>\n",
       "      <td>2</td>\n",
       "    </tr>\n",
       "    <tr>\n",
       "      <th>696</th>\n",
       "      <td>5</td>\n",
       "      <td>10</td>\n",
       "      <td>10</td>\n",
       "      <td>3</td>\n",
       "      <td>7</td>\n",
       "      <td>3</td>\n",
       "      <td>8</td>\n",
       "      <td>10</td>\n",
       "      <td>2</td>\n",
       "      <td>4</td>\n",
       "    </tr>\n",
       "    <tr>\n",
       "      <th>697</th>\n",
       "      <td>4</td>\n",
       "      <td>8</td>\n",
       "      <td>6</td>\n",
       "      <td>4</td>\n",
       "      <td>3</td>\n",
       "      <td>4</td>\n",
       "      <td>10</td>\n",
       "      <td>6</td>\n",
       "      <td>1</td>\n",
       "      <td>4</td>\n",
       "    </tr>\n",
       "    <tr>\n",
       "      <th>698</th>\n",
       "      <td>4</td>\n",
       "      <td>8</td>\n",
       "      <td>8</td>\n",
       "      <td>5</td>\n",
       "      <td>4</td>\n",
       "      <td>5</td>\n",
       "      <td>10</td>\n",
       "      <td>4</td>\n",
       "      <td>1</td>\n",
       "      <td>4</td>\n",
       "    </tr>\n",
       "  </tbody>\n",
       "</table>\n",
       "<p>683 rows × 10 columns</p>\n",
       "</div>"
      ],
      "text/plain": [
       "     espessura  un_tam_cel  un_forma_cel  adesao_marginal  tam_cel_epit  \\\n",
       "0            5           1             1                1             2   \n",
       "1            5           4             4                5             7   \n",
       "2            3           1             1                1             2   \n",
       "3            6           8             8                1             3   \n",
       "4            4           1             1                3             2   \n",
       "..         ...         ...           ...              ...           ...   \n",
       "694          3           1             1                1             3   \n",
       "695          2           1             1                1             2   \n",
       "696          5          10            10                3             7   \n",
       "697          4           8             6                4             3   \n",
       "698          4           8             8                5             4   \n",
       "\n",
       "     nucleos_exp  cromatina  nucleos_normais  mitoses  classe  \n",
       "0              1          3                1        1       2  \n",
       "1             10          3                2        1       2  \n",
       "2              2          3                1        1       2  \n",
       "3              4          3                7        1       2  \n",
       "4              1          3                1        1       2  \n",
       "..           ...        ...              ...      ...     ...  \n",
       "694            2          1                1        1       2  \n",
       "695            1          1                1        1       2  \n",
       "696            3          8               10        2       4  \n",
       "697            4         10                6        1       4  \n",
       "698            5         10                4        1       4  \n",
       "\n",
       "[683 rows x 10 columns]"
      ]
     },
     "execution_count": 8,
     "metadata": {},
     "output_type": "execute_result"
    }
   ],
   "source": [
    "# Elimina linhas com dados desconhecidos na coluna \"nucleos_exp\"\n",
    "df = df[df[\"nucleos_exp\"] != '?' ]\n",
    "\n",
    "# Converte coluna \"nucleo_exp\" para valores numéricos\n",
    "df.nucleos_exp = pd.to_numeric(df.nucleos_exp)\n",
    "df"
   ]
  },
  {
   "cell_type": "markdown",
   "metadata": {
    "id": "dZnFnFFXpwBT"
   },
   "source": [
    "- Observe que o conjunto de dados agora tem 683 exemplos, ou seja, 16 exemplos foram retirados porque tinham valores \"unknown\"."
   ]
  },
  {
   "cell_type": "markdown",
   "metadata": {
    "id": "UQMhcTQG7LzY"
   },
   "source": [
    "### 3.3 Transformar código das classes de câncer\n",
    "\n",
    "Primeiramente vamos verificar o número de exemplos de cada classe. Lembre que:\n",
    "\n",
    "- Classe = 2 $\\to$ câncer benigno\n",
    "- Classe = 4 $\\to$ câncer maligno\n",
    "\n",
    "Observa-se que é importante fazer essa verificação porque se o número de exemplos das classes for muito desbalanceado temos que usar técnicas especiais para treinar a RNA, como já visto anteriormente.\n",
    "\n",
    "Para visualizar o número de exemplos de cada classe vamos calcular e fazer o gráfico do histograma da coluna \"classe\"."
   ]
  },
  {
   "cell_type": "code",
   "execution_count": 9,
   "metadata": {
    "id": "SaAdQrBv8daS"
   },
   "outputs": [
    {
     "data": {
      "text/plain": [
       "<Axes: >"
      ]
     },
     "execution_count": 9,
     "metadata": {},
     "output_type": "execute_result"
    },
    {
     "data": {
      "image/png": "[encoded data removed]",
      "text/plain": [
       "<Figure size 640x480 with 1 Axes>"
      ]
     },
     "metadata": {},
     "output_type": "display_data"
    }
   ],
   "source": [
    "df['classe'].hist(bins=20)"
   ]
  },
  {
   "cell_type": "markdown",
   "metadata": {
    "id": "ENjMKvxQ6sWy"
   },
   "source": [
    "Para poder modelar esse problema como um problema de classificão binária, que detecta se o tumor é maligno ou não, temos que alterar os códigos das classes para o seguinte:\n",
    "\n",
    "- Câncer benigno (2.0) = 0\n",
    "- Câncer maligno (4.0) = 1"
   ]
  },
  {
   "cell_type": "code",
   "execution_count": 10,
   "metadata": {
    "id": "1MVzeUwf_A3E",
    "lines_to_next_cell": 2
   },
   "outputs": [
    {
     "data": {
      "text/html": [
       "<div>\n",
       "<style scoped>\n",
       "    .dataframe tbody tr th:only-of-type {\n",
       "        vertical-align: middle;\n",
       "    }\n",
       "\n",
       "    .dataframe tbody tr th {\n",
       "        vertical-align: top;\n",
       "    }\n",
       "\n",
       "    .dataframe thead th {\n",
       "        text-align: right;\n",
       "    }\n",
       "</style>\n",
       "<table border=\"1\" class=\"dataframe\">\n",
       "  <thead>\n",
       "    <tr style=\"text-align: right;\">\n",
       "      <th></th>\n",
       "      <th>espessura</th>\n",
       "      <th>un_tam_cel</th>\n",
       "      <th>un_forma_cel</th>\n",
       "      <th>adesao_marginal</th>\n",
       "      <th>tam_cel_epit</th>\n",
       "      <th>nucleos_exp</th>\n",
       "      <th>cromatina</th>\n",
       "      <th>nucleos_normais</th>\n",
       "      <th>mitoses</th>\n",
       "      <th>classe</th>\n",
       "    </tr>\n",
       "  </thead>\n",
       "  <tbody>\n",
       "    <tr>\n",
       "      <th>0</th>\n",
       "      <td>5</td>\n",
       "      <td>1</td>\n",
       "      <td>1</td>\n",
       "      <td>1</td>\n",
       "      <td>2</td>\n",
       "      <td>1</td>\n",
       "      <td>3</td>\n",
       "      <td>1</td>\n",
       "      <td>1</td>\n",
       "      <td>0</td>\n",
       "    </tr>\n",
       "    <tr>\n",
       "      <th>1</th>\n",
       "      <td>5</td>\n",
       "      <td>4</td>\n",
       "      <td>4</td>\n",
       "      <td>5</td>\n",
       "      <td>7</td>\n",
       "      <td>10</td>\n",
       "      <td>3</td>\n",
       "      <td>2</td>\n",
       "      <td>1</td>\n",
       "      <td>0</td>\n",
       "    </tr>\n",
       "    <tr>\n",
       "      <th>2</th>\n",
       "      <td>3</td>\n",
       "      <td>1</td>\n",
       "      <td>1</td>\n",
       "      <td>1</td>\n",
       "      <td>2</td>\n",
       "      <td>2</td>\n",
       "      <td>3</td>\n",
       "      <td>1</td>\n",
       "      <td>1</td>\n",
       "      <td>0</td>\n",
       "    </tr>\n",
       "    <tr>\n",
       "      <th>3</th>\n",
       "      <td>6</td>\n",
       "      <td>8</td>\n",
       "      <td>8</td>\n",
       "      <td>1</td>\n",
       "      <td>3</td>\n",
       "      <td>4</td>\n",
       "      <td>3</td>\n",
       "      <td>7</td>\n",
       "      <td>1</td>\n",
       "      <td>0</td>\n",
       "    </tr>\n",
       "    <tr>\n",
       "      <th>4</th>\n",
       "      <td>4</td>\n",
       "      <td>1</td>\n",
       "      <td>1</td>\n",
       "      <td>3</td>\n",
       "      <td>2</td>\n",
       "      <td>1</td>\n",
       "      <td>3</td>\n",
       "      <td>1</td>\n",
       "      <td>1</td>\n",
       "      <td>0</td>\n",
       "    </tr>\n",
       "    <tr>\n",
       "      <th>...</th>\n",
       "      <td>...</td>\n",
       "      <td>...</td>\n",
       "      <td>...</td>\n",
       "      <td>...</td>\n",
       "      <td>...</td>\n",
       "      <td>...</td>\n",
       "      <td>...</td>\n",
       "      <td>...</td>\n",
       "      <td>...</td>\n",
       "      <td>...</td>\n",
       "    </tr>\n",
       "    <tr>\n",
       "      <th>694</th>\n",
       "      <td>3</td>\n",
       "      <td>1</td>\n",
       "      <td>1</td>\n",
       "      <td>1</td>\n",
       "      <td>3</td>\n",
       "      <td>2</td>\n",
       "      <td>1</td>\n",
       "      <td>1</td>\n",
       "      <td>1</td>\n",
       "      <td>0</td>\n",
       "    </tr>\n",
       "    <tr>\n",
       "      <th>695</th>\n",
       "      <td>2</td>\n",
       "      <td>1</td>\n",
       "      <td>1</td>\n",
       "      <td>1</td>\n",
       "      <td>2</td>\n",
       "      <td>1</td>\n",
       "      <td>1</td>\n",
       "      <td>1</td>\n",
       "      <td>1</td>\n",
       "      <td>0</td>\n",
       "    </tr>\n",
       "    <tr>\n",
       "      <th>696</th>\n",
       "      <td>5</td>\n",
       "      <td>10</td>\n",
       "      <td>10</td>\n",
       "      <td>3</td>\n",
       "      <td>7</td>\n",
       "      <td>3</td>\n",
       "      <td>8</td>\n",
       "      <td>10</td>\n",
       "      <td>2</td>\n",
       "      <td>1</td>\n",
       "    </tr>\n",
       "    <tr>\n",
       "      <th>697</th>\n",
       "      <td>4</td>\n",
       "      <td>8</td>\n",
       "      <td>6</td>\n",
       "      <td>4</td>\n",
       "      <td>3</td>\n",
       "      <td>4</td>\n",
       "      <td>10</td>\n",
       "      <td>6</td>\n",
       "      <td>1</td>\n",
       "      <td>1</td>\n",
       "    </tr>\n",
       "    <tr>\n",
       "      <th>698</th>\n",
       "      <td>4</td>\n",
       "      <td>8</td>\n",
       "      <td>8</td>\n",
       "      <td>5</td>\n",
       "      <td>4</td>\n",
       "      <td>5</td>\n",
       "      <td>10</td>\n",
       "      <td>4</td>\n",
       "      <td>1</td>\n",
       "      <td>1</td>\n",
       "    </tr>\n",
       "  </tbody>\n",
       "</table>\n",
       "<p>683 rows × 10 columns</p>\n",
       "</div>"
      ],
      "text/plain": [
       "     espessura  un_tam_cel  un_forma_cel  adesao_marginal  tam_cel_epit  \\\n",
       "0            5           1             1                1             2   \n",
       "1            5           4             4                5             7   \n",
       "2            3           1             1                1             2   \n",
       "3            6           8             8                1             3   \n",
       "4            4           1             1                3             2   \n",
       "..         ...         ...           ...              ...           ...   \n",
       "694          3           1             1                1             3   \n",
       "695          2           1             1                1             2   \n",
       "696          5          10            10                3             7   \n",
       "697          4           8             6                4             3   \n",
       "698          4           8             8                5             4   \n",
       "\n",
       "     nucleos_exp  cromatina  nucleos_normais  mitoses  classe  \n",
       "0              1          3                1        1       0  \n",
       "1             10          3                2        1       0  \n",
       "2              2          3                1        1       0  \n",
       "3              4          3                7        1       0  \n",
       "4              1          3                1        1       0  \n",
       "..           ...        ...              ...      ...     ...  \n",
       "694            2          1                1        1       0  \n",
       "695            1          1                1        1       0  \n",
       "696            3          8               10        2       1  \n",
       "697            4         10                6        1       1  \n",
       "698            5         10                4        1       1  \n",
       "\n",
       "[683 rows x 10 columns]"
      ]
     },
     "execution_count": 10,
     "metadata": {},
     "output_type": "execute_result"
    }
   ],
   "source": [
    "df['classe'] = np.where(df['classe'] == 2, 0, 1)\n",
    "df"
   ]
  },
  {
   "cell_type": "markdown",
   "metadata": {
    "id": "EGbKO1bR8S9h"
   },
   "source": [
    "### Exercício #1: Dividir e embaralhar conjunto de dados\n",
    "\n",
    "Vamos dividir o conjunto de dados em conjuntos de treinamento e teste. Como o número de amostras é pequeno, faremos a validação no conjunto de teste.\n",
    "\n",
    "Nessa divisão vamos utilizar 80% dos dados como sendo de treinamento e 20% como sendo de teste/validação.\n",
    "\n",
    "Para realizar essa divisão usaremos a função `train_test_split()` da biblioteca ScikitLearn. Observe que você deve usar essa função também para embaralhar aleatoriamente os dados.  "
   ]
  },
  {
   "cell_type": "code",
   "execution_count": 15,
   "metadata": {
    "id": "aNUy7JcuAXjC"
   },
   "outputs": [
    {
     "name": "stdout",
     "output_type": "stream",
     "text": [
      "Dimensão dos dados de treinamento: (546, 10)\n",
      "Dimensão dos dados de teste: (137, 10)\n"
     ]
    }
   ],
   "source": [
    "# Para você fazer: Dividir e embaralhar dados\n",
    "\n",
    "# Importa função para dividir conjunto de dados\n",
    "from sklearn.model_selection import train_test_split\n",
    "\n",
    "# Realiza divisão dos dados\n",
    "# Inclua seu código aqui\n",
    "# Realiza divisão dos dados sem separar entrada e saída\n",
    "train, test = train_test_split(df, test_size=0.2, random_state=42, shuffle=True)\n",
    "\n",
    "# Verifica as dimensões completas dos conjuntos\n",
    "print(f\"Dimensão dos dados de treinamento: {train_data.shape}\")\n",
    "print(f\"Dimensão dos dados de teste: {test_data.shape}\")"
   ]
  },
  {
   "cell_type": "markdown",
   "metadata": {
    "id": "vD4DtYtypwBU"
   },
   "source": [
    "**Saída esperada:**\n",
    "\n",
    "    Dimensão dos dados de treinamento: (546, 10)\n",
    "    Dimensão dos dados de teste: (137, 10)"
   ]
  },
  {
   "cell_type": "markdown",
   "metadata": {
    "id": "61GfhDx7pwBU"
   },
   "source": [
    "### 3.4 Separar coluna das classes (saída desejada)\n",
    "\n",
    "Devemos separar a coluna das classes dos conjuntos de treinamento e teste para criar as saídas desejadas de treinamento e teste."
   ]
  },
  {
   "cell_type": "code",
   "execution_count": 16,
   "metadata": {
    "id": "V7EGUV-tA5LZ"
   },
   "outputs": [
    {
     "data": {
      "text/plain": [
       "452    0\n",
       "264    1\n",
       "599    0\n",
       "18     1\n",
       "364    0\n",
       "      ..\n",
       "73     1\n",
       "108    0\n",
       "279    1\n",
       "450    0\n",
       "104    1\n",
       "Name: classe, Length: 546, dtype: int64"
      ]
     },
     "execution_count": 16,
     "metadata": {},
     "output_type": "execute_result"
    }
   ],
   "source": [
    "train_Y = train.pop(\"classe\")\n",
    "test_Y = test.pop(\"classe\")\n",
    "train_Y"
   ]
  },
  {
   "cell_type": "markdown",
   "metadata": {
    "id": "bttvlF25pwBU"
   },
   "source": [
    "Vamos calcular as estatísticas básicas das saídas dos conjuntos de treinamento e teste para verificar se ambos possuem a mesma distribuição."
   ]
  },
  {
   "cell_type": "code",
   "execution_count": 17,
   "metadata": {
    "id": "35yooj0WpwBU"
   },
   "outputs": [
    {
     "name": "stdout",
     "output_type": "stream",
     "text": [
      "Estatística das saídas de treinamento:\n",
      " count    546.000000\n",
      "mean       0.331502\n",
      "std        0.471185\n",
      "min        0.000000\n",
      "25%        0.000000\n",
      "50%        0.000000\n",
      "75%        1.000000\n",
      "max        1.000000\n",
      "Name: classe, dtype: float64\n",
      "\n",
      "Estatística das saídas de teste:\n",
      " count    137.000000\n",
      "mean       0.423358\n",
      "std        0.495904\n",
      "min        0.000000\n",
      "25%        0.000000\n",
      "50%        0.000000\n",
      "75%        1.000000\n",
      "max        1.000000\n",
      "Name: classe, dtype: float64\n"
     ]
    }
   ],
   "source": [
    "print('Estatística das saídas de treinamento:\\n', train_Y.describe())\n",
    "print('\\nEstatística das saídas de teste:\\n', test_Y.describe())"
   ]
  },
  {
   "cell_type": "markdown",
   "metadata": {
    "id": "H_ZKokUP8kP3"
   },
   "source": [
    "### 3.5 Normalizar dados de entrada\n",
    "\n",
    "Antes de normalizar os dados de entrada é importante calcular as suas estatísticas básicas. Os valores de média e desvio padrão das caracteríticas dos dados de entrada de treinamento serão usados para normalizar os dados de treinamento e de teste."
   ]
  },
  {
   "cell_type": "code",
   "execution_count": 18,
   "metadata": {
    "id": "k86tBT_QAm2P"
   },
   "outputs": [
    {
     "name": "stdout",
     "output_type": "stream",
     "text": [
      "(9, 8)\n"
     ]
    },
    {
     "data": {
      "text/html": [
       "<div>\n",
       "<style scoped>\n",
       "    .dataframe tbody tr th:only-of-type {\n",
       "        vertical-align: middle;\n",
       "    }\n",
       "\n",
       "    .dataframe tbody tr th {\n",
       "        vertical-align: top;\n",
       "    }\n",
       "\n",
       "    .dataframe thead th {\n",
       "        text-align: right;\n",
       "    }\n",
       "</style>\n",
       "<table border=\"1\" class=\"dataframe\">\n",
       "  <thead>\n",
       "    <tr style=\"text-align: right;\">\n",
       "      <th></th>\n",
       "      <th>count</th>\n",
       "      <th>mean</th>\n",
       "      <th>std</th>\n",
       "      <th>min</th>\n",
       "      <th>25%</th>\n",
       "      <th>50%</th>\n",
       "      <th>75%</th>\n",
       "      <th>max</th>\n",
       "    </tr>\n",
       "  </thead>\n",
       "  <tbody>\n",
       "    <tr>\n",
       "      <th>espessura</th>\n",
       "      <td>546.0</td>\n",
       "      <td>4.415751</td>\n",
       "      <td>2.762337</td>\n",
       "      <td>1.0</td>\n",
       "      <td>2.0</td>\n",
       "      <td>4.0</td>\n",
       "      <td>6.00</td>\n",
       "      <td>10.0</td>\n",
       "    </tr>\n",
       "    <tr>\n",
       "      <th>un_tam_cel</th>\n",
       "      <td>546.0</td>\n",
       "      <td>3.106227</td>\n",
       "      <td>3.056003</td>\n",
       "      <td>1.0</td>\n",
       "      <td>1.0</td>\n",
       "      <td>1.0</td>\n",
       "      <td>4.75</td>\n",
       "      <td>10.0</td>\n",
       "    </tr>\n",
       "    <tr>\n",
       "      <th>un_forma_cel</th>\n",
       "      <td>546.0</td>\n",
       "      <td>3.212454</td>\n",
       "      <td>3.035374</td>\n",
       "      <td>1.0</td>\n",
       "      <td>1.0</td>\n",
       "      <td>1.0</td>\n",
       "      <td>5.00</td>\n",
       "      <td>10.0</td>\n",
       "    </tr>\n",
       "    <tr>\n",
       "      <th>adesao_marginal</th>\n",
       "      <td>546.0</td>\n",
       "      <td>2.824176</td>\n",
       "      <td>2.857830</td>\n",
       "      <td>1.0</td>\n",
       "      <td>1.0</td>\n",
       "      <td>1.0</td>\n",
       "      <td>4.00</td>\n",
       "      <td>10.0</td>\n",
       "    </tr>\n",
       "    <tr>\n",
       "      <th>tam_cel_epit</th>\n",
       "      <td>546.0</td>\n",
       "      <td>3.184982</td>\n",
       "      <td>2.179267</td>\n",
       "      <td>1.0</td>\n",
       "      <td>2.0</td>\n",
       "      <td>2.0</td>\n",
       "      <td>4.00</td>\n",
       "      <td>10.0</td>\n",
       "    </tr>\n",
       "    <tr>\n",
       "      <th>nucleos_exp</th>\n",
       "      <td>546.0</td>\n",
       "      <td>3.468864</td>\n",
       "      <td>3.630647</td>\n",
       "      <td>1.0</td>\n",
       "      <td>1.0</td>\n",
       "      <td>1.0</td>\n",
       "      <td>5.00</td>\n",
       "      <td>10.0</td>\n",
       "    </tr>\n",
       "    <tr>\n",
       "      <th>cromatina</th>\n",
       "      <td>546.0</td>\n",
       "      <td>3.315018</td>\n",
       "      <td>2.383359</td>\n",
       "      <td>1.0</td>\n",
       "      <td>2.0</td>\n",
       "      <td>3.0</td>\n",
       "      <td>4.00</td>\n",
       "      <td>10.0</td>\n",
       "    </tr>\n",
       "    <tr>\n",
       "      <th>nucleos_normais</th>\n",
       "      <td>546.0</td>\n",
       "      <td>2.752747</td>\n",
       "      <td>2.949614</td>\n",
       "      <td>1.0</td>\n",
       "      <td>1.0</td>\n",
       "      <td>1.0</td>\n",
       "      <td>3.00</td>\n",
       "      <td>10.0</td>\n",
       "    </tr>\n",
       "    <tr>\n",
       "      <th>mitoses</th>\n",
       "      <td>546.0</td>\n",
       "      <td>1.553114</td>\n",
       "      <td>1.632783</td>\n",
       "      <td>1.0</td>\n",
       "      <td>1.0</td>\n",
       "      <td>1.0</td>\n",
       "      <td>1.00</td>\n",
       "      <td>10.0</td>\n",
       "    </tr>\n",
       "  </tbody>\n",
       "</table>\n",
       "</div>"
      ],
      "text/plain": [
       "                 count      mean       std  min  25%  50%   75%   max\n",
       "espessura        546.0  4.415751  2.762337  1.0  2.0  4.0  6.00  10.0\n",
       "un_tam_cel       546.0  3.106227  3.056003  1.0  1.0  1.0  4.75  10.0\n",
       "un_forma_cel     546.0  3.212454  3.035374  1.0  1.0  1.0  5.00  10.0\n",
       "adesao_marginal  546.0  2.824176  2.857830  1.0  1.0  1.0  4.00  10.0\n",
       "tam_cel_epit     546.0  3.184982  2.179267  1.0  2.0  2.0  4.00  10.0\n",
       "nucleos_exp      546.0  3.468864  3.630647  1.0  1.0  1.0  5.00  10.0\n",
       "cromatina        546.0  3.315018  2.383359  1.0  2.0  3.0  4.00  10.0\n",
       "nucleos_normais  546.0  2.752747  2.949614  1.0  1.0  1.0  3.00  10.0\n",
       "mitoses          546.0  1.553114  1.632783  1.0  1.0  1.0  1.00  10.0"
      ]
     },
     "execution_count": 18,
     "metadata": {},
     "output_type": "execute_result"
    }
   ],
   "source": [
    "train_stats = train.describe()\n",
    "train_stats = train_stats.transpose()\n",
    "print(train_stats.shape)\n",
    "train_stats"
   ]
  },
  {
   "cell_type": "markdown",
   "metadata": {
    "id": "N9wVRO5E9AgA"
   },
   "source": [
    "### Exercícios #2: Normalizar dados de entrada\n",
    "\n",
    "Os dados de entrada serão normalizados para terem média igual a zero e disvio padrão igual a 1. Assim, a normalizaçãp de cada coluna deve ser feita de acordo com a seguinte equação:\n",
    "\n",
    "$$X_{norm,i} = \\frac{(X_i - \\mu_i)} {\\sigma_i}$$\n",
    "\n",
    "onde $X_i$ é a i-ésima coluna dos dados, $\\mu_i$ é a média da i-ésima coluna, $\\sigma_i$ é o desvio padrão da i-ésima coluna e $X_{norm,i}$ é a i-ésima coluna dos dados normalizada."
   ]
  },
  {
   "cell_type": "code",
   "execution_count": 19,
   "metadata": {
    "id": "NDo__q_AA3j0"
   },
   "outputs": [
    {
     "name": "stdout",
     "output_type": "stream",
     "text": [
      "Dados de entrada de treinamento normalizados:\n",
      "     espessura  un_tam_cel  un_forma_cel  adesao_marginal  tam_cel_epit  \\\n",
      "452  -0.512519   -0.689210     -0.728890         0.061524     -0.543752   \n",
      "264   0.935530    1.928589      0.259456         2.510934      3.127206   \n",
      "599   0.211505   -0.361985      0.259456        -0.638308     -1.002622   \n",
      "18    2.021567    1.274139      1.247802         1.111271      0.373987   \n",
      "364  -0.874532   -0.689210     -0.728890        -0.638308     -0.543752   \n",
      "\n",
      "     nucleos_exp  cromatina  nucleos_normais   mitoses  \n",
      "452    -0.680007  -0.971326        -0.594229 -0.338755  \n",
      "264    -0.129141   0.706978         0.083825  0.886147  \n",
      "599    -0.680007  -0.971326        -0.594229 -0.338755  \n",
      "18      1.798890   0.287402        -0.594229  0.273696  \n",
      "364    -0.680007  -0.132174        -0.594229 -0.338755  \n"
     ]
    }
   ],
   "source": [
    "# Define função para normalizar as colunas\n",
    "def normalizar_dados(df, stats):\n",
    "    \"\"\"\n",
    "    Normaliza os dados de um DataFrame com base na média e desvio padrão fornecidos.\n",
    "    \n",
    "    Args:\n",
    "        df (pd.DataFrame): Dados a serem normalizados.\n",
    "        stats (pd.DataFrame): Estatísticas (média e desvio padrão) usadas para normalização.\n",
    "        \n",
    "    Returns:\n",
    "        pd.DataFrame: Dados normalizados.\n",
    "    \"\"\"\n",
    "    return (df - stats['mean']) / stats['std']\n",
    "\n",
    "# Calcula estatísticas dos dados de treinamento\n",
    "train_stats = train.describe().transpose()\n",
    "\n",
    "# Normaliza dados de entrada de treinamento e teste\n",
    "X_train_norm = normalizar_dados(train, train_stats)\n",
    "X_test_norm = normalizar_dados(test, train_stats)\n",
    "\n",
    "# Visualiza dados de entrada de treinamento normalizados\n",
    "print(\"Dados de entrada de treinamento normalizados:\")\n",
    "print(X_train_norm.head())"
   ]
  },
  {
   "cell_type": "code",
   "execution_count": 20,
   "metadata": {
    "id": "xDYgo3BgpwBU"
   },
   "outputs": [
    {
     "data": {
      "text/html": [
       "<div>\n",
       "<style scoped>\n",
       "    .dataframe tbody tr th:only-of-type {\n",
       "        vertical-align: middle;\n",
       "    }\n",
       "\n",
       "    .dataframe tbody tr th {\n",
       "        vertical-align: top;\n",
       "    }\n",
       "\n",
       "    .dataframe thead th {\n",
       "        text-align: right;\n",
       "    }\n",
       "</style>\n",
       "<table border=\"1\" class=\"dataframe\">\n",
       "  <thead>\n",
       "    <tr style=\"text-align: right;\">\n",
       "      <th></th>\n",
       "      <th>count</th>\n",
       "      <th>mean</th>\n",
       "      <th>std</th>\n",
       "      <th>min</th>\n",
       "      <th>25%</th>\n",
       "      <th>50%</th>\n",
       "      <th>75%</th>\n",
       "      <th>max</th>\n",
       "    </tr>\n",
       "  </thead>\n",
       "  <tbody>\n",
       "    <tr>\n",
       "      <th>espessura</th>\n",
       "      <td>546.0</td>\n",
       "      <td>-8.946852e-17</td>\n",
       "      <td>1.0</td>\n",
       "      <td>-1.236544</td>\n",
       "      <td>-0.874532</td>\n",
       "      <td>-0.150507</td>\n",
       "      <td>0.573518</td>\n",
       "      <td>2.021567</td>\n",
       "    </tr>\n",
       "    <tr>\n",
       "      <th>un_tam_cel</th>\n",
       "      <td>546.0</td>\n",
       "      <td>2.277381e-17</td>\n",
       "      <td>1.0</td>\n",
       "      <td>-0.689210</td>\n",
       "      <td>-0.689210</td>\n",
       "      <td>-0.689210</td>\n",
       "      <td>0.537883</td>\n",
       "      <td>2.255814</td>\n",
       "    </tr>\n",
       "    <tr>\n",
       "      <th>un_forma_cel</th>\n",
       "      <td>546.0</td>\n",
       "      <td>-4.229421e-17</td>\n",
       "      <td>1.0</td>\n",
       "      <td>-0.728890</td>\n",
       "      <td>-0.728890</td>\n",
       "      <td>-0.728890</td>\n",
       "      <td>0.588905</td>\n",
       "      <td>2.236148</td>\n",
       "    </tr>\n",
       "    <tr>\n",
       "      <th>adesao_marginal</th>\n",
       "      <td>546.0</td>\n",
       "      <td>-9.597532e-17</td>\n",
       "      <td>1.0</td>\n",
       "      <td>-0.638308</td>\n",
       "      <td>-0.638308</td>\n",
       "      <td>-0.638308</td>\n",
       "      <td>0.411439</td>\n",
       "      <td>2.510934</td>\n",
       "    </tr>\n",
       "    <tr>\n",
       "      <th>tam_cel_epit</th>\n",
       "      <td>546.0</td>\n",
       "      <td>8.458842e-17</td>\n",
       "      <td>1.0</td>\n",
       "      <td>-1.002622</td>\n",
       "      <td>-0.543752</td>\n",
       "      <td>-0.543752</td>\n",
       "      <td>0.373987</td>\n",
       "      <td>3.127206</td>\n",
       "    </tr>\n",
       "    <tr>\n",
       "      <th>nucleos_exp</th>\n",
       "      <td>546.0</td>\n",
       "      <td>-1.952040e-17</td>\n",
       "      <td>1.0</td>\n",
       "      <td>-0.680007</td>\n",
       "      <td>-0.680007</td>\n",
       "      <td>-0.680007</td>\n",
       "      <td>0.421725</td>\n",
       "      <td>1.798890</td>\n",
       "    </tr>\n",
       "    <tr>\n",
       "      <th>cromatina</th>\n",
       "      <td>546.0</td>\n",
       "      <td>-1.073622e-16</td>\n",
       "      <td>1.0</td>\n",
       "      <td>-0.971326</td>\n",
       "      <td>-0.551750</td>\n",
       "      <td>-0.132174</td>\n",
       "      <td>0.287402</td>\n",
       "      <td>2.804858</td>\n",
       "    </tr>\n",
       "    <tr>\n",
       "      <th>nucleos_normais</th>\n",
       "      <td>546.0</td>\n",
       "      <td>1.301360e-17</td>\n",
       "      <td>1.0</td>\n",
       "      <td>-0.594229</td>\n",
       "      <td>-0.594229</td>\n",
       "      <td>-0.594229</td>\n",
       "      <td>0.083825</td>\n",
       "      <td>2.457017</td>\n",
       "    </tr>\n",
       "    <tr>\n",
       "      <th>mitoses</th>\n",
       "      <td>546.0</td>\n",
       "      <td>-1.138690e-17</td>\n",
       "      <td>1.0</td>\n",
       "      <td>-0.338755</td>\n",
       "      <td>-0.338755</td>\n",
       "      <td>-0.338755</td>\n",
       "      <td>-0.338755</td>\n",
       "      <td>5.173305</td>\n",
       "    </tr>\n",
       "  </tbody>\n",
       "</table>\n",
       "</div>"
      ],
      "text/plain": [
       "                 count          mean  std       min       25%       50%  \\\n",
       "espessura        546.0 -8.946852e-17  1.0 -1.236544 -0.874532 -0.150507   \n",
       "un_tam_cel       546.0  2.277381e-17  1.0 -0.689210 -0.689210 -0.689210   \n",
       "un_forma_cel     546.0 -4.229421e-17  1.0 -0.728890 -0.728890 -0.728890   \n",
       "adesao_marginal  546.0 -9.597532e-17  1.0 -0.638308 -0.638308 -0.638308   \n",
       "tam_cel_epit     546.0  8.458842e-17  1.0 -1.002622 -0.543752 -0.543752   \n",
       "nucleos_exp      546.0 -1.952040e-17  1.0 -0.680007 -0.680007 -0.680007   \n",
       "cromatina        546.0 -1.073622e-16  1.0 -0.971326 -0.551750 -0.132174   \n",
       "nucleos_normais  546.0  1.301360e-17  1.0 -0.594229 -0.594229 -0.594229   \n",
       "mitoses          546.0 -1.138690e-17  1.0 -0.338755 -0.338755 -0.338755   \n",
       "\n",
       "                      75%       max  \n",
       "espessura        0.573518  2.021567  \n",
       "un_tam_cel       0.537883  2.255814  \n",
       "un_forma_cel     0.588905  2.236148  \n",
       "adesao_marginal  0.411439  2.510934  \n",
       "tam_cel_epit     0.373987  3.127206  \n",
       "nucleos_exp      0.421725  1.798890  \n",
       "cromatina        0.287402  2.804858  \n",
       "nucleos_normais  0.083825  2.457017  \n",
       "mitoses         -0.338755  5.173305  "
      ]
     },
     "execution_count": 20,
     "metadata": {},
     "output_type": "execute_result"
    }
   ],
   "source": [
    "X_train_norm.describe().transpose()"
   ]
  },
  {
   "cell_type": "markdown",
   "metadata": {
    "id": "pYZWwar1pwBU"
   },
   "source": [
    "**Saída esperada:**\n",
    "\n",
    "       count\t        mean\tstd  \tmin  25% 50%\t  75%\t max\n",
    "       espessura\t     546.0\t  -2.373966e-17  \t1.0\t  -1.225570   -0.871516  -0.163409  0.544698  1.960912\n",
    "       un_tam_cel\t     546.0\t-8.743515e-17\t1.0\t-0.706795\t-0.706795\t-0.706795\t0.566836\t2.158875\n",
    "       un_forma_cel  \t546.0\t9.800870e-17\t1.0\t-0.746659\t-0.746659\t-0.746659\t0.549607\t2.169940|    \n",
    "       adesao_marginal \t546.0\t9.190857e-17\t1.0\t-0.658547\t-0.658547\t-0.658547\t0.372715\t2.435239\n",
    "       tam_cel_epit     546.0\t1.352195e-16\t1.0\t-0.998697\t-0.563163\t-0.563163\t0.307905\t2.921108\n",
    "       nucleos_exp  \t    546.0\t-4.636096e-17\t1.0\t-0.695540\t-0.695540\t-0.695540\t0.612569\t1.782983\n",
    "       cromatina        546.0\t-3.700743e-17\t1.0\t-0.982966\t-0.583636\t-0.184306\t0.215024\t2.611003\n",
    "       nucleos_normais   546.0\t2.257047e-16\t1.0\t-0.620388\t-0.620388\t-0.620388\t0.347417\t2.283027\n",
    "       mitoses\t         546.0\t-9.007853e-17\t1.0\t-0.352816\t-0.352816\t-0.352816\t-0.352816\t4.716589"
   ]
  },
  {
   "cell_type": "markdown",
   "metadata": {
    "id": "P6LIVZbj9Usv"
   },
   "source": [
    "### Exercício #3: Converter DataFrame para tf.Tensor\n",
    "\n",
    "Para os dados poderem ser usados por uma RNA em um loop de treinamento customizado eles devem estar no forma de tensores do TensorFlow, assim, vamos converter os dados para tf.Tensor."
   ]
  },
  {
   "cell_type": "code",
   "execution_count": 27,
   "metadata": {
    "id": "i5xdRHonpwBU"
   },
   "outputs": [
    {
     "name": "stdout",
     "output_type": "stream",
     "text": [
      "Dimensão dos dados de entrada de treinamemto: (546, 9)\n",
      "Dimensão dos dados de entrada de teste: (137, 9)\n",
      "Dimensão dos dados de saída de treinamemto: (546, 1)\n",
      "Dimensão dos dados de saída de teste: (137, 1)\n"
     ]
    }
   ],
   "source": [
    "# Converte entradas para tf.Tensor\n",
    "X_train = tf.convert_to_tensor(X_train_norm, dtype=tf.float32)\n",
    "X_test = tf.convert_to_tensor(X_test_norm, dtype=tf.float32)\n",
    "\n",
    "# Converte saídas para tf.Tensor e ajusta dimensões\n",
    "Y_train = tf.convert_to_tensor(train_Y.values, dtype=tf.int32)\n",
    "Y_test = tf.convert_to_tensor(test_Y.values, dtype=tf.int32)\n",
    "\n",
    "# Ajusta as dimensões para serem compatíveis com as entradas e saídas de uma RNA\n",
    "Y_train = tf.reshape(Y_train, (-1, 1))\n",
    "Y_test = tf.reshape(Y_test, (-1, 1))\n",
    "\n",
    "print('Dimensão dos dados de entrada de treinamemto:', X_train.shape)\n",
    "print('Dimensão dos dados de entrada de teste:', X_test.shape)\n",
    "print('Dimensão dos dados de saída de treinamemto:', Y_train.shape)\n",
    "print('Dimensão dos dados de saída de teste:', Y_test.shape)"
   ]
  },
  {
   "cell_type": "markdown",
   "metadata": {
    "id": "5lVS56qqpwBU"
   },
   "source": [
    "**Saída esperada:**\n",
    "\n",
    "    Dimensão dos dados de entrada de treinamemto: (546, 9)\n",
    "    Dimensão dos dados de entrada de teste: (137, 9)\n",
    "    Dimensão dos dados de saída de treinamemto: (546, 1)\n",
    "    Dimensão dos dados de saída de teste: (137, 1)"
   ]
  },
  {
   "cell_type": "code",
   "execution_count": 28,
   "metadata": {
    "id": "7HCvHoZOpwBU"
   },
   "outputs": [
    {
     "name": "stdout",
     "output_type": "stream",
     "text": [
      "tf.Tensor(\n",
      "[[-0.5125193  -0.68920976 -0.7288901   0.06152366 -0.5437524  -0.68000674\n",
      "  -0.9713261  -0.5942294  -0.33875504]\n",
      " [ 0.9355301   1.9285887   0.25945592  2.5109344   3.1272066  -0.12914075\n",
      "   0.70697784  0.08382546  0.8861473 ]\n",
      " [ 0.21150538 -0.36198497  0.25945592 -0.6383079  -1.0026222  -0.68000674\n",
      "  -0.9713261  -0.5942294  -0.33875504]\n",
      " [ 2.021567    1.2741392   1.247802    1.111271    0.37398735  1.7988902\n",
      "   0.28740185 -0.5942294   0.27369612]\n",
      " [-0.8745317  -0.68920976 -0.7288901  -0.6383079  -0.5437524  -0.68000674\n",
      "  -0.13217412 -0.5942294  -0.33875504]\n",
      " [-0.15050697 -0.68920976 -0.7288901  -0.6383079  -0.5437524  -0.68000674\n",
      "  -0.5517501  -0.5942294  -0.33875504]\n",
      " [ 0.21150538 -0.68920976 -0.7288901  -0.6383079  -1.0026222  -0.68000674\n",
      "  -0.9713261  -0.5942294  -0.33875504]\n",
      " [ 2.021567    2.2558136   2.236148    2.5109344  -0.08488252  1.7988902\n",
      "   2.8048577   1.1009078  -0.33875504]\n",
      " [ 0.57351774 -0.03476015  0.25945592 -0.6383079   0.8328572  -0.40457374\n",
      "  -0.13217412  2.11799    -0.33875504]\n",
      " [-0.5125193  -0.68920976 -0.7288901  -0.6383079  -0.5437524  -0.68000674\n",
      "  -0.9713261  -0.5942294  -0.33875504]], shape=(10, 9), dtype=float32)\n",
      "tf.Tensor(\n",
      "[[0]\n",
      " [1]\n",
      " [0]\n",
      " [1]\n",
      " [0]\n",
      " [0]\n",
      " [0]\n",
      " [1]\n",
      " [1]\n",
      " [0]], shape=(10, 1), dtype=int32)\n"
     ]
    }
   ],
   "source": [
    "print(X_train[:10])\n",
    "print(Y_train[:10])"
   ]
  },
  {
   "cell_type": "markdown",
   "metadata": {
    "id": "cVLInr7OpwBU"
   },
   "source": [
    "**Saída esperada:**\n",
    "\n",
    "    tf.Tensor(\n",
    "    [[ 1.9609115   2.158875    1.8458735   0.02896096  1.6145062   0.4060258\n",
    "      -0.18430609  0.67001873 -0.35281572]\n",
    "     [-0.51746273 -0.70679533 -0.7466588  -0.658547   -0.56316274 -0.69553983\n",
    "      -0.98296577 -0.62038773 -0.35281572]\n",
    "     [-1.2255697  -0.70679533 -0.09852573 -0.658547   -0.56316274 -0.69553983\n",
    "      -0.98296577 -0.62038773 -0.35281572]\n",
    "     [-1.2255697  -0.70679533 -0.42259225 -0.658547   -0.56316274 -0.42014843\n",
    "       0.21502376 -0.29778612 -0.35281572]\n",
    "     [-0.8715162   0.5668359   1.1977404   1.0602229   0.30790484  1.7829828\n",
    "       1.4130133   0.99262035 -0.35281572]\n",
    "     [ 1.9609115   2.158875    1.1977404   1.7477309   1.6145062  -0.69553983\n",
    "       2.611003    2.2830267   0.77371866]\n",
    "     [-1.2255697  -0.70679533 -0.7466588  -0.658547   -0.9986965  -0.69553983\n",
    "      -0.98296577  0.02481551 -0.35281572]\n",
    "     [ 0.19064417 -0.06997974 -0.42259225  1.7477309   0.74343866  1.7829828\n",
    "       1.8123431  -0.62038773  0.21045148]\n",
    "     [ 1.9609115   0.24842808  0.54960734  0.37271494 -0.12762895  0.4060258\n",
    "       1.4130133   0.02481551 -0.35281572]\n",
    "     [ 0.19064417 -0.70679533 -0.7466588  -0.658547   -0.56316274 -0.69553983\n",
    "      -0.18430609 -0.62038773 -0.35281572]], shape=(10, 9), dtype=float32)\n",
    "    tf.Tensor(\n",
    "    [[1]\n",
    "     [0]\n",
    "     [0]\n",
    "     [0]\n",
    "     [1]\n",
    "     [1]\n",
    "     [0]\n",
    "     [1]\n",
    "     [1]\n",
    "     [0]], shape=(10, 1), dtype=int32)"
   ]
  },
  {
   "cell_type": "markdown",
   "metadata": {
    "id": "GcbOJ6C79qT5"
   },
   "source": [
    "## 4. Configuração e compilação da RNA\n",
    "\n",
    "### Exercício #4: Configuração da RNA\n",
    "\n",
    "Para realizar essa tarefa de classificação binária vamos utilizar uma RNA com 3 camadas tipo densa. Na célula abaixo configure a sua RNA usando os seguintes parâmetros:\n",
    "\n",
    "- Primeira camada: 128 neurônios e função de ativação Relu;\n",
    "- Segunda camada: 64 neurônios e função de ativação Relu;\n",
    "- Camada de saída: 1 neurônio e função de ativação sigmoide."
   ]
  },
  {
   "cell_type": "code",
   "execution_count": 30,
   "metadata": {
    "id": "g1_u65wApwBV"
   },
   "outputs": [
    {
     "name": "stderr",
     "output_type": "stream",
     "text": [
      "/usr/local/python/3.12.1/lib/python3.12/site-packages/keras/src/layers/core/dense.py:87: UserWarning: Do not pass an `input_shape`/`input_dim` argument to a layer. When using Sequential models, prefer using an `Input(shape)` object as the first layer in the model instead.\n",
      "  super().__init__(activity_regularizer=activity_regularizer, **kwargs)\n"
     ]
    },
    {
     "data": {
      "text/html": [
       "<pre style=\"white-space:pre;overflow-x:auto;line-height:normal;font-family:Menlo,'DejaVu Sans Mono',consolas,'Courier New',monospace\"><span style=\"font-weight: bold\">Model: \"sequential\"</span>\n",
       "</pre>\n"
      ],
      "text/plain": [
       "\u001b[1mModel: \"sequential\"\u001b[0m\n"
      ]
     },
     "metadata": {},
     "output_type": "display_data"
    },
    {
     "data": {
      "text/html": [
       "<pre style=\"white-space:pre;overflow-x:auto;line-height:normal;font-family:Menlo,'DejaVu Sans Mono',consolas,'Courier New',monospace\">┏━━━━━━━━━━━━━━━━━━━━━━━━━━━━━━━━━┳━━━━━━━━━━━━━━━━━━━━━━━━┳━━━━━━━━━━━━━━━┓\n",
       "┃<span style=\"font-weight: bold\"> Layer (type)                    </span>┃<span style=\"font-weight: bold\"> Output Shape           </span>┃<span style=\"font-weight: bold\">       Param # </span>┃\n",
       "┡━━━━━━━━━━━━━━━━━━━━━━━━━━━━━━━━━╇━━━━━━━━━━━━━━━━━━━━━━━━╇━━━━━━━━━━━━━━━┩\n",
       "│ dense (<span style=\"color: #0087ff; text-decoration-color: #0087ff\">Dense</span>)                   │ (<span style=\"color: #00d7ff; text-decoration-color: #00d7ff\">None</span>, <span style=\"color: #00af00; text-decoration-color: #00af00\">128</span>)            │         <span style=\"color: #00af00; text-decoration-color: #00af00\">1,280</span> │\n",
       "├─────────────────────────────────┼────────────────────────┼───────────────┤\n",
       "│ dense_1 (<span style=\"color: #0087ff; text-decoration-color: #0087ff\">Dense</span>)                 │ (<span style=\"color: #00d7ff; text-decoration-color: #00d7ff\">None</span>, <span style=\"color: #00af00; text-decoration-color: #00af00\">64</span>)             │         <span style=\"color: #00af00; text-decoration-color: #00af00\">8,256</span> │\n",
       "├─────────────────────────────────┼────────────────────────┼───────────────┤\n",
       "│ dense_2 (<span style=\"color: #0087ff; text-decoration-color: #0087ff\">Dense</span>)                 │ (<span style=\"color: #00d7ff; text-decoration-color: #00d7ff\">None</span>, <span style=\"color: #00af00; text-decoration-color: #00af00\">1</span>)              │            <span style=\"color: #00af00; text-decoration-color: #00af00\">65</span> │\n",
       "└─────────────────────────────────┴────────────────────────┴───────────────┘\n",
       "</pre>\n"
      ],
      "text/plain": [
       "┏━━━━━━━━━━━━━━━━━━━━━━━━━━━━━━━━━┳━━━━━━━━━━━━━━━━━━━━━━━━┳━━━━━━━━━━━━━━━┓\n",
       "┃\u001b[1m \u001b[0m\u001b[1mLayer (type)                   \u001b[0m\u001b[1m \u001b[0m┃\u001b[1m \u001b[0m\u001b[1mOutput Shape          \u001b[0m\u001b[1m \u001b[0m┃\u001b[1m \u001b[0m\u001b[1m      Param #\u001b[0m\u001b[1m \u001b[0m┃\n",
       "┡━━━━━━━━━━━━━━━━━━━━━━━━━━━━━━━━━╇━━━━━━━━━━━━━━━━━━━━━━━━╇━━━━━━━━━━━━━━━┩\n",
       "│ dense (\u001b[38;5;33mDense\u001b[0m)                   │ (\u001b[38;5;45mNone\u001b[0m, \u001b[38;5;34m128\u001b[0m)            │         \u001b[38;5;34m1,280\u001b[0m │\n",
       "├─────────────────────────────────┼────────────────────────┼───────────────┤\n",
       "│ dense_1 (\u001b[38;5;33mDense\u001b[0m)                 │ (\u001b[38;5;45mNone\u001b[0m, \u001b[38;5;34m64\u001b[0m)             │         \u001b[38;5;34m8,256\u001b[0m │\n",
       "├─────────────────────────────────┼────────────────────────┼───────────────┤\n",
       "│ dense_2 (\u001b[38;5;33mDense\u001b[0m)                 │ (\u001b[38;5;45mNone\u001b[0m, \u001b[38;5;34m1\u001b[0m)              │            \u001b[38;5;34m65\u001b[0m │\n",
       "└─────────────────────────────────┴────────────────────────┴───────────────┘\n"
      ]
     },
     "metadata": {},
     "output_type": "display_data"
    },
    {
     "data": {
      "text/html": [
       "<pre style=\"white-space:pre;overflow-x:auto;line-height:normal;font-family:Menlo,'DejaVu Sans Mono',consolas,'Courier New',monospace\"><span style=\"font-weight: bold\"> Total params: </span><span style=\"color: #00af00; text-decoration-color: #00af00\">9,601</span> (37.50 KB)\n",
       "</pre>\n"
      ],
      "text/plain": [
       "\u001b[1m Total params: \u001b[0m\u001b[38;5;34m9,601\u001b[0m (37.50 KB)\n"
      ]
     },
     "metadata": {},
     "output_type": "display_data"
    },
    {
     "data": {
      "text/html": [
       "<pre style=\"white-space:pre;overflow-x:auto;line-height:normal;font-family:Menlo,'DejaVu Sans Mono',consolas,'Courier New',monospace\"><span style=\"font-weight: bold\"> Trainable params: </span><span style=\"color: #00af00; text-decoration-color: #00af00\">9,601</span> (37.50 KB)\n",
       "</pre>\n"
      ],
      "text/plain": [
       "\u001b[1m Trainable params: \u001b[0m\u001b[38;5;34m9,601\u001b[0m (37.50 KB)\n"
      ]
     },
     "metadata": {},
     "output_type": "display_data"
    },
    {
     "data": {
      "text/html": [
       "<pre style=\"white-space:pre;overflow-x:auto;line-height:normal;font-family:Menlo,'DejaVu Sans Mono',consolas,'Courier New',monospace\"><span style=\"font-weight: bold\"> Non-trainable params: </span><span style=\"color: #00af00; text-decoration-color: #00af00\">0</span> (0.00 B)\n",
       "</pre>\n"
      ],
      "text/plain": [
       "\u001b[1m Non-trainable params: \u001b[0m\u001b[38;5;34m0\u001b[0m (0.00 B)\n"
      ]
     },
     "metadata": {},
     "output_type": "display_data"
    }
   ],
   "source": [
    "from tensorflow.keras import Sequential\n",
    "from tensorflow.keras.layers import Dense\n",
    "# Para você fazer: Configuração da RNA\n",
    "\n",
    "# Inclua seu código aqui\n",
    "#\n",
    "# Configuração da RNA\n",
    "rna = Sequential([\n",
    "    Dense(128, activation='relu', input_shape=(X_train.shape[1],)),  # Primeira camada\n",
    "    Dense(64, activation='relu'),                                    # Segunda camada\n",
    "    Dense(1, activation='sigmoid')                                   # Camada de saída\n",
    "])\n",
    "# Resumo da RNA\n",
    "rna.summary()"
   ]
  },
  {
   "cell_type": "markdown",
   "metadata": {
    "id": "UWKaGD5upwBV"
   },
   "source": [
    "**Saída esperada:**\n",
    "\n",
    "    Model: \"sequential\"\n",
    "    _________________________________________________________________\n",
    "    Layer (type)                 Output Shape              Param #   \n",
    "    =================================================================\n",
    "    dense (Dense)                (None, 128)               1280      \n",
    "    _________________________________________________________________\n",
    "    dense_1 (Dense)              (None, 64)                8256      \n",
    "    _________________________________________________________________\n",
    "    dense_2 (Dense)              (None, 1)                 65        \n",
    "    =================================================================\n",
    "    Total params: 9,601\n",
    "    Trainable params: 9,601\n",
    "    Non-trainable params: 0\n",
    "    _________________________________________________________________"
   ]
  },
  {
   "cell_type": "markdown",
   "metadata": {
    "id": "NBhKIcKQ-Bwe"
   },
   "source": [
    "### Exercício #5: Definição do otimizador da RNA, função de custo e métrica\n",
    "\n",
    "Na célula abaixo defina o otimizador, a função de custo e a métrica que serão usados no treinamento da RNA.\n",
    "\n",
    "- Otimizador: Adam com taxa de aprendizado de 0.001;\n",
    "- Função de custo: BinaryCrossentropy\n",
    "- Métrica: Accuracy\n",
    "\n",
    "Observa-se que deve-se usar as versões na forma de classes de todas essas funções."
   ]
  },
  {
   "cell_type": "code",
   "execution_count": 31,
   "metadata": {
    "id": "v5B3vh6fs84i"
   },
   "outputs": [],
   "source": [
    "from tensorflow.keras.optimizers import Adam\n",
    "from tensorflow.keras.losses import BinaryCrossentropy\n",
    "from tensorflow.keras.metrics import BinaryAccuracy\n",
    "# Para você fazer: definir otimizador, função de custo e métrica\n",
    "\n",
    "# Define objeto otimizador usando tf.keras.optimizer.Addam\n",
    "# Inclua seu código aqui\n",
    "otimizador = Adam(learning_rate=0.001)\n",
    "\n",
    "# Define objeto função de custo usando tf.keras.losses.BinaryCrossentropy\n",
    "# Inclua seu código aqui\n",
    "funcao_custo = BinaryCrossentropy()\n",
    "\n",
    "# Define objeto métrica usando tf.keras.metrics.BinaryAccuracy\n",
    "# Inclua seu código aqui\n",
    "metrica = BinaryAccuracy()"
   ]
  },
  {
   "cell_type": "markdown",
   "metadata": {
    "id": "Mc4OxR_1pwBV"
   },
   "source": [
    "Vamos avaliar a RNA não treinada para termos uma base do resultado esperado do treinamento. Execute as células a seguir para realizar essa avaliação."
   ]
  },
  {
   "cell_type": "code",
   "execution_count": 35,
   "metadata": {},
   "outputs": [
    {
     "name": "stdout",
     "output_type": "stream",
     "text": [
      "\u001b[1m5/5\u001b[0m \u001b[32m━━━━━━━━━━━━━━━━━━━━\u001b[0m\u001b[37m\u001b[0m \u001b[1m0s\u001b[0m 3ms/step \n",
      "Custo antes do treinamento = 0.6803253\n",
      "Métrica antes do treinamento = 0.60583943\n"
     ]
    }
   ],
   "source": [
    "# Define o objeto da função de custo e da métrica\n",
    "loss_object = funcao_custo  \n",
    "metric_object = metrica     \n",
    "\n",
    "# Calcula previsões da RNA não treinada\n",
    "outputs = rna.predict(X_test)\n",
    "\n",
    "# Calcula função de custo\n",
    "loss_value = loss_object(y_true=Y_test, y_pred=outputs)\n",
    "print(\"Custo antes do treinamento =\", loss_value.numpy())\n",
    "\n",
    "# Calcula métrica\n",
    "accuracy = metric_object(y_true=Y_test, y_pred=outputs)\n",
    "print(\"Métrica antes do treinamento =\", accuracy.numpy())"
   ]
  },
  {
   "cell_type": "markdown",
   "metadata": {
    "id": "isUlJaNGpwBV"
   },
   "source": [
    "**Saída esperada:**\n",
    "\n",
    "    Custo antes do treinamento = 0.766273\n",
    "    Métrica antes do treinamento = 0.16788322"
   ]
  },
  {
   "cell_type": "code",
   "execution_count": 36,
   "metadata": {
    "id": "upMCIv2KpwBV"
   },
   "outputs": [
    {
     "name": "stderr",
     "output_type": "stream",
     "text": [
      "/tmp/ipykernel_3679/3036150857.py:13: UserWarning: set_ticklabels() should only be used with a fixed number of ticks, i.e. after set_ticks() or using a FixedLocator.\n",
      "  ax.set_xticklabels([''] + labels)\n",
      "/tmp/ipykernel_3679/3036150857.py:14: UserWarning: set_ticklabels() should only be used with a fixed number of ticks, i.e. after set_ticks() or using a FixedLocator.\n",
      "  ax.set_yticklabels([''] + labels)\n"
     ]
    },
    {
     "data": {
      "image/png": "[encoded data removed]",
      "text/plain": [
       "<Figure size 640x480 with 2 Axes>"
      ]
     },
     "metadata": {},
     "output_type": "display_data"
    }
   ],
   "source": [
    "# Importa funções para calcula matriz e confusão\n",
    "from sklearn.metrics import confusion_matrix\n",
    "import itertools\n",
    "\n",
    "# Define função para construir matriz de confusão\n",
    "def plot_confusion_matrix(y_true, y_pred, title='', labels=[0,1]):\n",
    "    cm = confusion_matrix(y_true, y_pred)\n",
    "    fig = plt.figure()\n",
    "    ax = fig.add_subplot(111)\n",
    "    cax = ax.matshow(cm)\n",
    "    plt.title(title)\n",
    "    fig.colorbar(cax)\n",
    "    ax.set_xticklabels([''] + labels)\n",
    "    ax.set_yticklabels([''] + labels)\n",
    "    plt.xlabel('Previsto')\n",
    "    plt.ylabel('Real')\n",
    "    fmt = 'd'\n",
    "    thresh = cm.max() / 2.\n",
    "    for i, j in itertools.product(range(cm.shape[0]), range(cm.shape[1])):\n",
    "          plt.text(j, i, format(cm[i, j], fmt),\n",
    "                  horizontalalignment=\"center\",\n",
    "                  color=\"black\" if cm[i, j] > thresh else \"white\")\n",
    "    plt.show()\n",
    "\n",
    "plot_confusion_matrix(Y_test, tf.round(outputs), title='Matriz de confusão gerada pela RNA não treinada')"
   ]
  },
  {
   "cell_type": "markdown",
   "metadata": {
    "id": "qho6p1aYpwBV"
   },
   "source": [
    "# 5. Treinamento da RNA\n",
    "\n",
    "Para treinar essa RNA vamos criar um loop customizado usando a função `tf.GradientTape()`.\n",
    "\n",
    "\n",
    "### Exercício #6: Criar função para calcular gradientes e atualizar parâmetros\n",
    "\n",
    "Na célula abaixo crie um função que calcula o gradiente da função de custo em relação aos parâmetros da RNA e depois atualiza esses parâmetros usando o otimizador configurado anteriormente.\n",
    "\n",
    "Para acessar os parâmetros de um modelo do TensorFlow basta usar `model.trainable_weights`."
   ]
  },
  {
   "cell_type": "code",
   "execution_count": 37,
   "metadata": {
    "id": "jlopMAqCpwBW"
   },
   "outputs": [],
   "source": [
    "# Para você fazer: criar função que calcula gradientes e atualiza parâmetros da RNA\n",
    "@tf.function()\n",
    "def apply_gradient(optimizer, loss_object, model, x, y):\n",
    "    '''\n",
    "    Função para calcular o gradinet e atualizar os parâmetros da RNA\n",
    "\n",
    "    Argumentos:\n",
    "        optimizer: otimizador configurado para atualizar os parâmetros\n",
    "        loss_object: função de custo configurada anteriormente\n",
    "        model: RNA que está sendo treinada\n",
    "        x: tensor com os dados de entrada de treinamento\n",
    "        y: saídas desejadas dos dados de treinamento\n",
    "\n",
    "    Retorna:\n",
    "        logits = saídas previstas pela RNA\n",
    "        loss_value = valor da função de custo\n",
    "    '''\n",
    "\n",
    "    # Inclua seu código aqui\n",
    "    with tf.GradientTape() as tape:\n",
    "        # Calcula as saídas previstas pela RNA\n",
    "        logits = model(x, training=True)\n",
    "        # Calcula o valor da função de custo\n",
    "        loss_value = loss_object(y_true=y, y_pred=logits)\n",
    "    \n",
    "    # Calcula os gradientes da função de custo em relação aos parâmetros da RNA\n",
    "    gradients = tape.gradient(loss_value, model.trainable_weights)\n",
    "    # Atualiza os parâmetros da RNA usando o otimizador\n",
    "    optimizer.apply_gradients(zip(gradients, model.trainable_weights))\n",
    "\n",
    "    return logits, loss_value"
   ]
  },
  {
   "cell_type": "markdown",
   "metadata": {
    "id": "Pk0qO-IcpwBW"
   },
   "source": [
    "Execute a célula abaixo para testar a sua função `apply_gradient()`."
   ]
  },
  {
   "cell_type": "code",
   "execution_count": 39,
   "metadata": {},
   "outputs": [
    {
     "name": "stdout",
     "output_type": "stream",
     "text": [
      "Primeiras 5 saídas: [[0.50162256]\n",
      " [0.37523556]\n",
      " [0.3955389 ]\n",
      " [0.3897107 ]\n",
      " [0.39998284]]\n",
      "\n",
      "Função de custo = 0.6803254\n"
     ]
    }
   ],
   "source": [
    "# Certifique-se de que o otimizador foi definido\n",
    "optimizer = Adam(learning_rate=0.001)\n",
    "\n",
    "# Cria nova RNA igual à configurada anteriormente\n",
    "test_model = tf.keras.models.clone_model(rna)  # Clona a arquitetura para criar uma nova RNA\n",
    "test_model.set_weights(rna.get_weights())     # Copia os pesos da RNA original\n",
    "\n",
    "# Calcula saída prevista e função de custo usando a função apply_gradient\n",
    "test_logits, test_loss = apply_gradient(optimizer, loss_object, test_model, X_test, Y_test)\n",
    "\n",
    "# Exibe as primeiras saídas previstas e o valor da função de custo\n",
    "print('Primeiras 5 saídas:', test_logits.numpy()[:5])\n",
    "print('\\nFunção de custo =', test_loss.numpy())\n",
    "\n",
    "# Limpa as variáveis temporárias para evitar conflitos\n",
    "del test_model\n",
    "del test_logits\n",
    "del test_loss\n"
   ]
  },
  {
   "cell_type": "markdown",
   "metadata": {
    "id": "rTTI1AMUpwBW"
   },
   "source": [
    "**Saída esperada:**\n",
    "\n",
    "    Primeiras 5 saídas: [[0.57383853]\n",
    "     [0.53157353]\n",
    "     [0.43801865]\n",
    "     [0.47596937]\n",
    "     [0.4938018 ]]\n",
    "    \n",
    "    Função de custo = 0.6647787"
   ]
  },
  {
   "cell_type": "markdown",
   "metadata": {
    "id": "fLrHmjPwpwBW"
   },
   "source": [
    "### Exercício #7: Cálculo da função de custo e métrica para os dados de validação\n",
    "\n",
    "No final de cada época de treinamento, temos que validar a RNA no conjunto de dados de teste. Crie uma função que calcula a função de custo e a métrica para os dados validação."
   ]
  },
  {
   "cell_type": "code",
   "execution_count": 40,
   "metadata": {
    "id": "RPjv3H6npwBW"
   },
   "outputs": [],
   "source": [
    "@tf.function()\n",
    "def perform_validation(model, x_val, y_val):\n",
    "    \"\"\"\n",
    "    Função para calcular custo e métrica nos dados de validação.\n",
    "\n",
    "    Argumentos:\n",
    "        model: RNA sendo avaliada.\n",
    "        x_val: Tensor com os dados de entrada de validação.\n",
    "        y_val: Tensor com os dados de saída de validação.\n",
    "\n",
    "    Retorna:\n",
    "        val_loss: Valor da função de custo nos dados de validação.\n",
    "        val_accuracy: Métrica de acurácia nos dados de validação.\n",
    "    \"\"\"\n",
    "    # Calcula as saídas previstas para os dados de validação\n",
    "    val_logits = model(x_val, training=False)\n",
    "\n",
    "    # Calcula o custo para os dados de validação\n",
    "    val_loss = loss_object(y_true=y_val, y_pred=val_logits)\n",
    "\n",
    "    # Calcula as classes previstas (arredondando os valores)\n",
    "    val_predictions = tf.round(val_logits)\n",
    "\n",
    "    # Calcula a métrica de acurácia\n",
    "    val_accuracy = metric_object(y_true=y_val, y_pred=val_predictions)\n",
    "\n",
    "    return val_loss, val_accuracy\n"
   ]
  },
  {
   "cell_type": "markdown",
   "metadata": {
    "id": "gm7sgWaupwBW"
   },
   "source": [
    "Execute a célula abaixo para testar a sua função `perform_validation()`."
   ]
  },
  {
   "cell_type": "code",
   "execution_count": 41,
   "metadata": {
    "id": "Wv2_bCofpwBW"
   },
   "outputs": [
    {
     "name": "stdout",
     "output_type": "stream",
     "text": [
      "Função de custo para os dados de teste = 0.6803254\n",
      "Exatidão para os dados de teste = 0.60583943\n"
     ]
    }
   ],
   "source": [
    "val_loss, val_accuracy = perform_validation(rna, X_test, Y_test)\n",
    "\n",
    "print('Função de custo para os dados de teste =', val_loss.numpy())\n",
    "print('Exatidão para os dados de teste =', val_accuracy.numpy())"
   ]
  },
  {
   "cell_type": "markdown",
   "metadata": {
    "id": "dmnEiGorpwBW"
   },
   "source": [
    "**Saída esperada:**\n",
    "\n",
    "    Função de custo para os dados de teste = 0.7662731\n",
    "    Exatidão para os dados de teste = 0.16788322"
   ]
  },
  {
   "cell_type": "markdown",
   "metadata": {
    "id": "4qxgt_u7pwBW"
   },
   "source": [
    "### Exercício #8: Loop e treinamento customizado\n",
    "\n",
    "Usando a função `apply_gradient()` vamos criar um loop de treinamemto customizado. Utilize 1000 épocas de treinamento.\n"
   ]
  },
  {
   "cell_type": "code",
   "execution_count": 44,
   "metadata": {
    "id": "FUx17nxlpwBW"
   },
   "outputs": [
    {
     "name": "stdout",
     "output_type": "stream",
     "text": [
      "Época: 0 - custo = 0.6587713 - exatidão = 0.6398538 - custo_val = 0.6215699 - val_exatidão = 0.64500403\n",
      "Época: 100 - custo = 0.0645313 - exatidão = 0.9642188 - custo_val = 0.0595026 - val_exatidão = 0.9642318\n",
      "Época: 200 - custo = 0.04603693 - exatidão = 0.97128415 - custo_val = 0.06027773 - val_exatidão = 0.9712837\n",
      "Época: 300 - custo = 0.02414892 - exatidão = 0.9760333 - custo_val = 0.06940282 - val_exatidão = 0.97603464\n",
      "Época: 400 - custo = 0.010032524 - exatidão = 0.9801199 - custo_val = 0.08283325 - val_exatidão = 0.9801189\n",
      "Época: 500 - custo = 0.004392894 - exatidão = 0.9831141 - custo_val = 0.09561196 - val_exatidão = 0.9831121\n",
      "Época: 600 - custo = 0.002266272 - exatidão = 0.9851908 - custo_val = 0.10730594 - val_exatidão = 0.9851885\n",
      "Época: 700 - custo = 0.0013396542 - exatidão = 0.98667556 - custo_val = 0.11759516 - val_exatidão = 0.9866731\n",
      "Época: 800 - custo = 0.000859003 - exatidão = 0.9877898 - custo_val = 0.12715006 - val_exatidão = 0.9877874\n",
      "Época: 900 - custo = 0.000564494 - exatidão = 0.98865694 - custo_val = 0.13569912 - val_exatidão = 0.98865455\n",
      "\n",
      "Custo final = 0.00041032754\n",
      "Exatidão final = 0.9893446\n",
      "\n",
      "Custo final de validação = 0.1419413\n",
      "Exatidão final de validação = 0.9893424\n"
     ]
    }
   ],
   "source": [
    "# Recria o otimizador\n",
    "optimizer = Adam(learning_rate=0.001)\n",
    "\n",
    "# Define número de épocas\n",
    "num_epocas = 1000\n",
    "\n",
    "# Loop de treinamento\n",
    "for i in range(num_epocas):\n",
    "    # Calcula gradientes e atualiza parâmetros da RNA\n",
    "    logits, loss_value = apply_gradient(optimizer, loss_object, rna, X_train, Y_train)\n",
    "    \n",
    "    # Calcula métrica para dados de treinamento\n",
    "    accuracy = metric_object(y_true=Y_train, y_pred=tf.round(logits))\n",
    "    \n",
    "    # Calcula função de custo e métrica para dados de validação\n",
    "    val_loss, val_accuracy = perform_validation(rna, X_test, Y_test)\n",
    "    \n",
    "    # Imprime resultado da função de custo e métrica da época\n",
    "    if i % 100 == 0:\n",
    "        print('Época:', i, '-', \n",
    "              'custo =', loss_value.numpy(), \n",
    "              '-', 'exatidão =', accuracy.numpy(), \n",
    "              '-', 'custo_val =', val_loss.numpy(), \n",
    "              '-', 'val_exatidão =', val_accuracy.numpy())\n",
    "\n",
    "# Imprime resultado final\n",
    "print('\\nCusto final =', loss_value.numpy())\n",
    "print('Exatidão final =', accuracy.numpy())\n",
    "print('\\nCusto final de validação =', val_loss.numpy())\n",
    "print('Exatidão final de validação =', val_accuracy.numpy())\n"
   ]
  },
  {
   "cell_type": "markdown",
   "metadata": {
    "id": "n6E4CurppwBW"
   },
   "source": [
    "**Saída esperada:**\n",
    "\n",
    "    Época: 0 - custo = 0.68436486 - exatidão = 0.34634146 - custo_val = 0.6501663 - val_exatidão = 0.3448276\n",
    "    Época: 100 - custo = 0.058527242 - exatidão = 0.9515191 - custo_val = 0.080492094 - val_exatidão = 0.9515428\n",
    "    Época: 200 - custo = 0.03760329 - exatidão = 0.96556544 - custo_val = 0.07935773 - val_exatidão = 0.9655706\n",
    "    Época: 300 - custo = 0.018621787 - exatidão = 0.9716702 - custo_val = 0.09142268 - val_exatidão = 0.97165996\n",
    "    Época: 400 - custo = 0.008029577 - exatidão = 0.9759616 - custo_val = 0.11785624 - val_exatidão = 0.97595173\n",
    "    Época: 500 - custo = 0.0036735435 - exatidão = 0.9789992 - custo_val = 0.14663258 - val_exatidão = 0.9789901\n",
    "    Época: 600 - custo = 0.0019131048 - exatidão = 0.9810311 - custo_val = 0.17128268 - val_exatidão = 0.98102283\n",
    "    Época: 700 - custo = 0.0011265007 - exatidão = 0.9824835 - custo_val = 0.19244863 - val_exatidão = 0.982476\n",
    "    Época: 800 - custo = 0.00072901906 - exatidão = 0.983407 - custo_val = 0.21075746 - val_exatidão = 0.9833984\n",
    "    Época: 900 - custo = 0.0005036661 - exatidão = 0.984111 - custo_val = 0.2269108 - val_exatidão = 0.98410314\n",
    "    \n",
    "    Custo final = 0.0003456268\n",
    "    Exatidão final= 0.98466927\n",
    "\n",
    "    Custo final de validação = 0.24358612\n",
    "    Exatidão final de validação = 0.98466206"
   ]
  },
  {
   "cell_type": "markdown",
   "metadata": {
    "id": "yANjfJLJpwBW"
   },
   "source": [
    "## 7. Avaliação e teste da RNA\n",
    "\n",
    "### Exercício #9: Cálculo da função de custo e métrica para os dados de teste\n",
    "\n",
    "Na célula abaixo calcule a função de custo e a métrica para os dados de teste."
   ]
  },
  {
   "cell_type": "code",
   "execution_count": 45,
   "metadata": {
    "id": "TUScS3GbtPXt"
   },
   "outputs": [
    {
     "name": "stdout",
     "output_type": "stream",
     "text": [
      "Custo = 0.1419413\n",
      "Exatidão = 0.9893401\n"
     ]
    }
   ],
   "source": [
    "# Calcula saída prevista para os dados de teste\n",
    "outputs_test = rna(X_test, training=False)\n",
    "\n",
    "# Calcula função de custo para os dados de teste\n",
    "loss_value_test = loss_object(y_true=Y_test, y_pred=outputs_test)\n",
    "\n",
    "# Calcula métrica para os dados de teste\n",
    "metric_value_test = metric_object(y_true=Y_test, y_pred=tf.round(outputs_test))\n",
    "\n",
    "# Exibe os resultados\n",
    "print(\"Custo =\", loss_value_test.numpy())\n",
    "print(\"Exatidão =\", metric_value_test.numpy())"
   ]
  },
  {
   "cell_type": "markdown",
   "metadata": {
    "id": "UvhH7bhPpwBW"
   },
   "source": [
    "**Saída esperada:**\n",
    "\n",
    "    Custo = 0.24358612\n",
    "    Exatidão = 0.9846549"
   ]
  },
  {
   "cell_type": "markdown",
   "metadata": {
    "id": "jPPb5ewkzMBY"
   },
   "source": [
    "Execute a célula abaixo para calcular a matriz de confusão para a RNA treinada."
   ]
  },
  {
   "cell_type": "code",
   "execution_count": 46,
   "metadata": {
    "id": "FApnBUNWv-ZR"
   },
   "outputs": [
    {
     "name": "stderr",
     "output_type": "stream",
     "text": [
      "/tmp/ipykernel_3679/3036150857.py:13: UserWarning: set_ticklabels() should only be used with a fixed number of ticks, i.e. after set_ticks() or using a FixedLocator.\n",
      "  ax.set_xticklabels([''] + labels)\n",
      "/tmp/ipykernel_3679/3036150857.py:14: UserWarning: set_ticklabels() should only be used with a fixed number of ticks, i.e. after set_ticks() or using a FixedLocator.\n",
      "  ax.set_yticklabels([''] + labels)\n"
     ]
    },
    {
     "data": {
      "image/png": "[encoded data removed]",
      "text/plain": [
       "<Figure size 640x480 with 2 Axes>"
      ]
     },
     "metadata": {},
     "output_type": "display_data"
    }
   ],
   "source": [
    "plot_confusion_matrix(Y_test, tf.round(outputs), title='Matriz de confusão da RNA treinada')"
   ]
  },
  {
   "cell_type": "markdown",
   "metadata": {
    "id": "dIz-3BNHpwBX"
   },
   "source": [
    "- Observa-se que o resultado da RNA é bastante satisfatório, sendo que apenas algumas amostras são classificadas erradas.\n",
    "\n",
    "- Cerca de 96% das amostra são classificadas corretamente."
   ]
  }
 ],
 "metadata": {
  "colab": {
   "provenance": []
  },
  "coursera": {
   "schema_names": [
    "TF3C2W2-1",
    "TF3C2W2-2",
    "TF3C2W2-3"
   ]
  },
  "kernelspec": {
   "display_name": "Python 3",
   "language": "python",
   "name": "python3"
  },
  "language_info": {
   "codemirror_mode": {
    "name": "ipython",
    "version": 3
   },
   "file_extension": ".py",
   "mimetype": "text/x-python",
   "name": "python",
   "nbconvert_exporter": "python",
   "pygments_lexer": "ipython3",
   "version": "3.12.1"
  }
 },
 "nbformat": 4,
 "nbformat_minor": 0
}
