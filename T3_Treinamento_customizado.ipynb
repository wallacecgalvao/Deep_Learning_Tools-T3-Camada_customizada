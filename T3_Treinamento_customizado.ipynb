{
  "cells": [
    {
      "cell_type": "markdown",
      "metadata": {
        "id": "AWqcoPhU3RJN"
      },
      "source": [
        "# Trabalho #3 - Treinamento customizado\n",
        "\n",
        "Nesse trabalho você vai treinar uma RNA para prever se um tumor é maligno ou benigno usando o conjunto de dados \"Breast Cancer Dataset\", disponível no UCI Machine Learning Repository (https://archive.ics.uci.edu/ml/datasets/breast+cancer+wisconsin+(original)\n",
        "\n",
        "\n",
        "Esse conjunto de dados foi obtido pelo Hospital da University de Wisconsin, Madison por: O. L. Mangasarian e W. H. Wolberge, \"Cancer diagnosis via linear programming\", SIAM News, Volume 23, Number 5, September 1990, pp 1 & 18."
      ]
    },
    {
      "cell_type": "markdown",
      "metadata": {
        "id": "mAZuiJnNpwBQ"
      },
      "source": [
        "## Coloque o seu nome:\n",
        "\n",
        "Nome:"
      ]
    },
    {
      "cell_type": "markdown",
      "metadata": {
        "id": "st5AIBFZ5mEQ"
      },
      "source": [
        "## 1. Importar bibliotecas\n",
        "\n",
        "Execute a célula abaixo para importar as principais bilbiotecas necessárias."
      ]
    },
    {
      "cell_type": "code",
      "execution_count": null,
      "metadata": {
        "id": "JkMXve8XuN5X"
      },
      "outputs": [],
      "source": [
        "import tensorflow as tf\n",
        "import numpy as np\n",
        "import matplotlib.pyplot as plt\n",
        "import pandas as pd"
      ]
    },
    {
      "cell_type": "markdown",
      "metadata": {
        "id": "yUc3HpEQ5s6U"
      },
      "source": [
        "## 2.  Carregar dados\n",
        "\n",
        "Esse conjunto de dados possui 699 exemplos, sendo que cada exemplo é composto por 10 características ontidas por exames de células de tecidos que podem ser da classe de cancer maligno ou benigino.\n",
        "\n",
        "As características de cada exemplo são as seguintes:\n",
        "\n",
        "1. Número de identificação da amostra: id\n",
        "2. Espessura do aglomerado: 1 - 10\n",
        "3. Uniformidade do tamanho da célula: 1 - 10\n",
        "4. Uniformidade da forma celular: 1 - 10\n",
        "5. Adesão Marginal: 1 - 10\n",
        "6. Tamanho de célula epitelial única: 1 - 10\n",
        "7. Núcleos expostos: 1 - 10\n",
        "8. Cromatina Suave: 1 - 10\n",
        "9. Nucléos normais: 1 - 10\n",
        "10. Mitoses: 1 - 10\n",
        "11. Casse: 2 para benigno e 4 para maligno\n",
        "\n",
        "Execute a célula abaixo para carregar o conjunto de dados e criar um DataFrame Pandas. Para facilitar o entendimento dos dados vamos definir explicitamente os nomes das colunas porque o arquivo CSV original não possui o cabeçalho com os nomes das colunas."
      ]
    },
    {
      "cell_type": "code",
      "execution_count": null,
      "metadata": {
        "id": "HVh-W73J5TjS"
      },
      "outputs": [],
      "source": [
        "DATASET_URL = \"https://archive.ics.uci.edu/ml/machine-learning-databases/breast-cancer-wisconsin/breast-cancer-wisconsin.data\"\n",
        "data_file = tf.keras.utils.get_file(\"breast_cancer.csv\", DATASET_URL)\n",
        "col_names = [\"id\", \"espessura\", \"un_tam_cel\", \"un_forma_cel\", \"adesao_marginal\", \"tam_cel_epit\", \"nucleos_exp\", \"cromatina\", \"nucleos_normais\", \"mitoses\", \"classe\"]\n",
        "df = pd.read_csv(data_file, names=col_names, header=None)"
      ]
    },
    {
      "cell_type": "markdown",
      "metadata": {
        "id": "VPFD1yufpwBS"
      },
      "source": [
        "Execute as duas células abaixo para visualizar os dados e verificar o número de exemplos."
      ]
    },
    {
      "cell_type": "code",
      "execution_count": null,
      "metadata": {
        "id": "XEv8vS_P6HaV"
      },
      "outputs": [],
      "source": [
        "df.head()"
      ]
    },
    {
      "cell_type": "code",
      "execution_count": null,
      "metadata": {
        "id": "BkpK3ndspwBS"
      },
      "outputs": [],
      "source": [
        "print('Dimensão dos dados:', df.shape)"
      ]
    },
    {
      "cell_type": "markdown",
      "metadata": {
        "id": "NvvbnFL36L85"
      },
      "source": [
        "## 3. Pré-processamento dos dados\n",
        "\n",
        "Os dados precisam ser pré-processados para poderem ser utilzados por uma RNA.\n",
        "\n",
        "As seguintes etapas devem ser realizadas no processamento:\n",
        "\n",
        "1. Retirar a coluna da identificação da amostra (\"id\");\n",
        "2. Eliminar dados que possuem valores \"desconhecidos\";\n",
        "3. Transformar classes de índices 2 e 4 para 0 e 1, 0 é benigno e 1 é maligno;\n",
        "4. Dividir dados nos conjuntos de treinamento e teste;\n",
        "5. Separar coluna das classes (dados de saídas reais) das outras colunas (dados de entradas);\n",
        "6. Normalizar os dados de entrada;\n",
        "7. Conveter DataFrame Pandas para tf.Tensor."
      ]
    },
    {
      "cell_type": "markdown",
      "metadata": {
        "id": "iBCNlUVgpwBT"
      },
      "source": [
        "### 3.1 Retirar coluna de identificação da amostra (\"id\")\n",
        "\n",
        "Execute a célula baixo para realizar essa operação."
      ]
    },
    {
      "cell_type": "code",
      "execution_count": null,
      "metadata": {
        "id": "nDeXwHdA5uUN"
      },
      "outputs": [],
      "source": [
        "df.pop(\"id\")\n",
        "df.head()"
      ]
    },
    {
      "cell_type": "markdown",
      "metadata": {
        "id": "ubw5LueA6ZEY"
      },
      "source": [
        "### 3.2 Eliminar dados \"desconhecidos\"\n",
        "\n",
        "Se você inspecionar os dados vai verificar que existem valores \"desconehcidos\" na coluna de \"nucleos_exp\". Para verificar quais amostras possuem valores desconhecidos execute a célula abaixo."
      ]
    },
    {
      "cell_type": "code",
      "execution_count": null,
      "metadata": {
        "id": "aSXKVPOEpwBT"
      },
      "outputs": [],
      "source": [
        "df[df[\"nucleos_exp\"] == '?']"
      ]
    },
    {
      "cell_type": "markdown",
      "metadata": {
        "id": "5YKTClGWpwBT"
      },
      "source": [
        "Deve-se eliminar as linhas que possuem dados desse tipo. Além disso, a coluna \"nucleos_exp\" não é uma coluna numérica e, portanto, deve ser convertida para valores numéricos. Execute a célula abaixo para realizar essas operações."
      ]
    },
    {
      "cell_type": "code",
      "execution_count": null,
      "metadata": {
        "id": "MCcOrl1ITVhr"
      },
      "outputs": [],
      "source": [
        "# Elimina linhas com dados desconhecidos na coluna \"nucleos_exp\"\n",
        "df = df[df[\"nucleos_exp\"] != '?' ]\n",
        "\n",
        "# Converte coluna \"nucleo_exp\" para valores numéricos\n",
        "df.nucleos_exp = pd.to_numeric(df.nucleos_exp)\n",
        "df"
      ]
    },
    {
      "cell_type": "markdown",
      "metadata": {
        "id": "dZnFnFFXpwBT"
      },
      "source": [
        "- Observe que o conjunto de dados agora tem 683 exemplos, ou seja, 16 exemplos foram retirados porque tinham valores \"unknown\"."
      ]
    },
    {
      "cell_type": "markdown",
      "metadata": {
        "id": "UQMhcTQG7LzY"
      },
      "source": [
        "### 3.3 Transformar código das classes de câncer\n",
        "\n",
        "Primeiramente vamos verificar o número de exemplos de cada classe. Lembre que:\n",
        "\n",
        "- Classe = 2 $\\to$ câncer benigno\n",
        "- Classe = 4 $\\to$ câncer maligno\n",
        "\n",
        "Observa-se que é importante fazer essa verificação porque se o número de exemplos das classes for muito desbalanceado temos que usar técnicas especiais para treinar a RNA, como já visto anteriormente.\n",
        "\n",
        "Para visualizar o número de exemplos de cada classe vamos calcular e fazer o gráfico do histograma da coluna \"classe\"."
      ]
    },
    {
      "cell_type": "code",
      "execution_count": null,
      "metadata": {
        "id": "SaAdQrBv8daS"
      },
      "outputs": [],
      "source": [
        "df['classe'].hist(bins=20)"
      ]
    },
    {
      "cell_type": "markdown",
      "metadata": {
        "id": "ENjMKvxQ6sWy"
      },
      "source": [
        "Para poder modelar esse problema como um problema de classificão binária, que detecta se o tumor é maligno ou não, temos que alterar os códigos das classes para o seguinte:\n",
        "\n",
        "- Câncer benigno (2.0) = 0\n",
        "- Câncer maligno (4.0) = 1"
      ]
    },
    {
      "cell_type": "code",
      "execution_count": null,
      "metadata": {
        "id": "1MVzeUwf_A3E",
        "lines_to_next_cell": 2
      },
      "outputs": [],
      "source": [
        "df['classe'] = np.where(df['classe'] == 2, 0, 1)\n",
        "df"
      ]
    },
    {
      "cell_type": "markdown",
      "metadata": {
        "id": "EGbKO1bR8S9h"
      },
      "source": [
        "### Exercício #1: Dividir e embaralhar conjunto de dados\n",
        "\n",
        "Vamos dividir o conjunto de dados em conjuntos de treinamento e teste. Como o número de amostras é pequeno, faremos a validação no conjunto de teste.\n",
        "\n",
        "Nessa divisão vamos utilizar 80% dos dados como sendo de treinamento e 20% como sendo de teste/validação.\n",
        "\n",
        "Para realizar essa divisão usaremos a função `train_test_split()` da biblioteca ScikitLearn. Observe que você deve usar essa função também para embaralhar aleatoriamente os dados.  "
      ]
    },
    {
      "cell_type": "code",
      "execution_count": null,
      "metadata": {
        "id": "aNUy7JcuAXjC"
      },
      "outputs": [],
      "source": [
        "# Para você fazer: Dividir e embaralhar dados\n",
        "\n",
        "# Importa função para dividir conjunto de dados\n",
        "from sklearn.model_selection import train_test_split\n",
        "\n",
        "# Realiza divisão dos dados\n",
        "# Inclua seu código aqui\n",
        "#\n"
      ]
    },
    {
      "cell_type": "markdown",
      "metadata": {
        "id": "vD4DtYtypwBU"
      },
      "source": [
        "**Saída esperada:**\n",
        "\n",
        "    Dimensão dos dados de treinamento: (546, 10)\n",
        "    Dimensão dos dados de teste: (137, 10)"
      ]
    },
    {
      "cell_type": "markdown",
      "metadata": {
        "id": "61GfhDx7pwBU"
      },
      "source": [
        "### 3.4 Separar coluna das classes (saída desejada)\n",
        "\n",
        "Devemos separar a coluna das classes dos conjuntos de treinamento e teste para criar as saídas desejadas de treinamento e teste."
      ]
    },
    {
      "cell_type": "code",
      "execution_count": null,
      "metadata": {
        "id": "V7EGUV-tA5LZ"
      },
      "outputs": [],
      "source": [
        "train_Y = train.pop(\"classe\")\n",
        "test_Y = test.pop(\"classe\")\n",
        "train_Y"
      ]
    },
    {
      "cell_type": "markdown",
      "metadata": {
        "id": "bttvlF25pwBU"
      },
      "source": [
        "Vamos calcular as estatísticas básicas das saídas dos conjuntos de treinamento e teste para verificar se ambos possuem a mesma distribuição."
      ]
    },
    {
      "cell_type": "code",
      "execution_count": null,
      "metadata": {
        "id": "35yooj0WpwBU"
      },
      "outputs": [],
      "source": [
        "print('Estatística das saídas de treinamento:\\n', train_Y.describe())\n",
        "print('\\nEstatística das saídas de teste:\\n', test_Y.describe())"
      ]
    },
    {
      "cell_type": "markdown",
      "metadata": {
        "id": "H_ZKokUP8kP3"
      },
      "source": [
        "### 3.5 Normalizar dados de entrada\n",
        "\n",
        "Antes de normalizar os dados de entrada é importante calcular as suas estatísticas básicas. Os valores de média e desvio padrão das caracteríticas dos dados de entrada de treinamento serão usados para normalizar os dados de treinamento e de teste."
      ]
    },
    {
      "cell_type": "code",
      "execution_count": null,
      "metadata": {
        "id": "k86tBT_QAm2P"
      },
      "outputs": [],
      "source": [
        "train_stats = train.describe()\n",
        "train_stats = train_stats.transpose()\n",
        "print(train_stats.shape)\n",
        "train_stats"
      ]
    },
    {
      "cell_type": "markdown",
      "metadata": {
        "id": "N9wVRO5E9AgA"
      },
      "source": [
        "### Exercícios #2: Normalizar dados de entrada\n",
        "\n",
        "Os dados de entrada serão normalizados para terem média igual a zero e disvio padrão igual a 1. Assim, a normalizaçãp de cada coluna deve ser feita de acordo com a seguinte equação:\n",
        "\n",
        "$$X_{norm,i} = \\frac{(X_i - \\mu_i)} {\\sigma_i}$$\n",
        "\n",
        "onde $X_i$ é a i-ésima coluna dos dados, $\\mu_i$ é a média da i-ésima coluna, $\\sigma_i$ é o desvio padrão da i-ésima coluna e $X_{norm,i}$ é a i-ésima coluna dos dados normalizada."
      ]
    },
    {
      "cell_type": "code",
      "execution_count": null,
      "metadata": {
        "id": "NDo__q_AA3j0"
      },
      "outputs": [],
      "source": [
        "# Para você fazer: Normalizar dados\n",
        "\n",
        "# Define função para normalizar as colunas\n",
        "# Inclua seu código aqui\n",
        "#\n",
        "\n",
        "# Normaliza dados entrada de treinamento e teste\n",
        "# Inclua seu código aqui\n",
        "#\n",
        "\n",
        "# Visualiza dados de entrada de treinamento normalizados\n",
        "X_train_norm"
      ]
    },
    {
      "cell_type": "code",
      "execution_count": null,
      "metadata": {
        "id": "xDYgo3BgpwBU"
      },
      "outputs": [],
      "source": [
        "X_train_norm.describe().transpose()"
      ]
    },
    {
      "cell_type": "markdown",
      "metadata": {
        "id": "pYZWwar1pwBU"
      },
      "source": [
        "**Saída esperada:**\n",
        "\n",
        "       count\t        mean\tstd  \tmin  25% 50%\t  75%\t max\n",
        "       espessura\t     546.0\t  -2.373966e-17  \t1.0\t  -1.225570   -0.871516  -0.163409  0.544698  1.960912\n",
        "       un_tam_cel\t     546.0\t-8.743515e-17\t1.0\t-0.706795\t-0.706795\t-0.706795\t0.566836\t2.158875\n",
        "       un_forma_cel  \t546.0\t9.800870e-17\t1.0\t-0.746659\t-0.746659\t-0.746659\t0.549607\t2.169940|    \n",
        "       adesao_marginal \t546.0\t9.190857e-17\t1.0\t-0.658547\t-0.658547\t-0.658547\t0.372715\t2.435239\n",
        "       tam_cel_epit     546.0\t1.352195e-16\t1.0\t-0.998697\t-0.563163\t-0.563163\t0.307905\t2.921108\n",
        "       nucleos_exp  \t    546.0\t-4.636096e-17\t1.0\t-0.695540\t-0.695540\t-0.695540\t0.612569\t1.782983\n",
        "       cromatina        546.0\t-3.700743e-17\t1.0\t-0.982966\t-0.583636\t-0.184306\t0.215024\t2.611003\n",
        "       nucleos_normais   546.0\t2.257047e-16\t1.0\t-0.620388\t-0.620388\t-0.620388\t0.347417\t2.283027\n",
        "       mitoses\t         546.0\t-9.007853e-17\t1.0\t-0.352816\t-0.352816\t-0.352816\t-0.352816\t4.716589"
      ]
    },
    {
      "cell_type": "markdown",
      "metadata": {
        "id": "P6LIVZbj9Usv"
      },
      "source": [
        "### Exercício #3: Converter DataFrame para tf.Tensor\n",
        "\n",
        "Para os dados poderem ser usados por uma RNA em um loop de treinamento customizado eles devem estar no forma de tensores do TensorFlow, assim, vamos converter os dados para tf.Tensor."
      ]
    },
    {
      "cell_type": "code",
      "execution_count": null,
      "metadata": {
        "id": "i5xdRHonpwBU"
      },
      "outputs": [],
      "source": [
        "# Converte entradas para tf.Tensor\n",
        "# Inclua seu código aqui\n",
        "X_train =\n",
        "X_test =\n",
        "\n",
        "# Convert saídas para tf.Tensor e ajusta dimensões\n",
        "# Inclua seu código aqui\n",
        "Y_train =\n",
        "Y_test =\n",
        "\n",
        "print('Dimensão dos dados de entrada de treinamemto:', X_train.shape)\n",
        "print('Dimensão dos dados de entrada de teste:', X_test.shape)\n",
        "print('Dimensão dos dados de saída de treinamemto:', Y_train.shape)\n",
        "print('Dimensão dos dados de saída de teste:', Y_test.shape)"
      ]
    },
    {
      "cell_type": "markdown",
      "metadata": {
        "id": "5lVS56qqpwBU"
      },
      "source": [
        "**Saída esperada:**\n",
        "\n",
        "    Dimensão dos dados de entrada de treinamemto: (546, 9)\n",
        "    Dimensão dos dados de entrada de teste: (137, 9)\n",
        "    Dimensão dos dados de saída de treinamemto: (546, 1)\n",
        "    Dimensão dos dados de saída de teste: (137, 1)"
      ]
    },
    {
      "cell_type": "code",
      "execution_count": null,
      "metadata": {
        "id": "7HCvHoZOpwBU"
      },
      "outputs": [],
      "source": [
        "print(X_train[:10])\n",
        "print(Y_train[:10])"
      ]
    },
    {
      "cell_type": "markdown",
      "metadata": {
        "id": "cVLInr7OpwBU"
      },
      "source": [
        "**Saída esperada:**\n",
        "\n",
        "    tf.Tensor(\n",
        "    [[ 1.9609115   2.158875    1.8458735   0.02896096  1.6145062   0.4060258\n",
        "      -0.18430609  0.67001873 -0.35281572]\n",
        "     [-0.51746273 -0.70679533 -0.7466588  -0.658547   -0.56316274 -0.69553983\n",
        "      -0.98296577 -0.62038773 -0.35281572]\n",
        "     [-1.2255697  -0.70679533 -0.09852573 -0.658547   -0.56316274 -0.69553983\n",
        "      -0.98296577 -0.62038773 -0.35281572]\n",
        "     [-1.2255697  -0.70679533 -0.42259225 -0.658547   -0.56316274 -0.42014843\n",
        "       0.21502376 -0.29778612 -0.35281572]\n",
        "     [-0.8715162   0.5668359   1.1977404   1.0602229   0.30790484  1.7829828\n",
        "       1.4130133   0.99262035 -0.35281572]\n",
        "     [ 1.9609115   2.158875    1.1977404   1.7477309   1.6145062  -0.69553983\n",
        "       2.611003    2.2830267   0.77371866]\n",
        "     [-1.2255697  -0.70679533 -0.7466588  -0.658547   -0.9986965  -0.69553983\n",
        "      -0.98296577  0.02481551 -0.35281572]\n",
        "     [ 0.19064417 -0.06997974 -0.42259225  1.7477309   0.74343866  1.7829828\n",
        "       1.8123431  -0.62038773  0.21045148]\n",
        "     [ 1.9609115   0.24842808  0.54960734  0.37271494 -0.12762895  0.4060258\n",
        "       1.4130133   0.02481551 -0.35281572]\n",
        "     [ 0.19064417 -0.70679533 -0.7466588  -0.658547   -0.56316274 -0.69553983\n",
        "      -0.18430609 -0.62038773 -0.35281572]], shape=(10, 9), dtype=float32)\n",
        "    tf.Tensor(\n",
        "    [[1]\n",
        "     [0]\n",
        "     [0]\n",
        "     [0]\n",
        "     [1]\n",
        "     [1]\n",
        "     [0]\n",
        "     [1]\n",
        "     [1]\n",
        "     [0]], shape=(10, 1), dtype=int32)"
      ]
    },
    {
      "cell_type": "markdown",
      "metadata": {
        "id": "GcbOJ6C79qT5"
      },
      "source": [
        "## 4. Configuração e compilação da RNA\n",
        "\n",
        "### Exercício #4: Configuração da RNA\n",
        "\n",
        "Para realizar essa tarefa de classificação binária vamos utilizar uma RNA com 3 camadas tipo densa. Na célula abaixo configure a sua RNA usando os seguintes parâmetros:\n",
        "\n",
        "- Primeira camada: 128 neurônios e função de ativação Relu;\n",
        "- Segunda camada: 64 neurônios e função de ativação Relu;\n",
        "- Camada de saída: 1 neurônio e função de ativação sigmoide."
      ]
    },
    {
      "cell_type": "code",
      "execution_count": null,
      "metadata": {
        "id": "g1_u65wApwBV"
      },
      "outputs": [],
      "source": [
        "# Para você fazer: Configuração da RNA\n",
        "\n",
        "# Inclua seu código aqui\n",
        "#\n",
        "\n",
        "# Resumo da RNA\n",
        "rna.summary()"
      ]
    },
    {
      "cell_type": "markdown",
      "metadata": {
        "id": "UWKaGD5upwBV"
      },
      "source": [
        "**Saída esperada:**\n",
        "\n",
        "    Model: \"sequential\"\n",
        "    _________________________________________________________________\n",
        "    Layer (type)                 Output Shape              Param #   \n",
        "    =================================================================\n",
        "    dense (Dense)                (None, 128)               1280      \n",
        "    _________________________________________________________________\n",
        "    dense_1 (Dense)              (None, 64)                8256      \n",
        "    _________________________________________________________________\n",
        "    dense_2 (Dense)              (None, 1)                 65        \n",
        "    =================================================================\n",
        "    Total params: 9,601\n",
        "    Trainable params: 9,601\n",
        "    Non-trainable params: 0\n",
        "    _________________________________________________________________"
      ]
    },
    {
      "cell_type": "markdown",
      "metadata": {
        "id": "NBhKIcKQ-Bwe"
      },
      "source": [
        "### Exercício #5: Definição do otimizador da RNA, função de custo e métrica\n",
        "\n",
        "Na célula abaixo defina o otimizador, a função de custo e a métrica que serão usados no treinamento da RNA.\n",
        "\n",
        "- Otimizador: Adam com taxa de aprendizado de 0.001;\n",
        "- Função de custo: BinaryCrossentropy\n",
        "- Métrica: Accuracy\n",
        "\n",
        "Observa-se que deve-se usar as versões na forma de classes de todas essas funções."
      ]
    },
    {
      "cell_type": "code",
      "execution_count": null,
      "metadata": {
        "id": "v5B3vh6fs84i"
      },
      "outputs": [],
      "source": [
        "# Para você fazer: definir otimizador, função de custo e métrica\n",
        "\n",
        "# Define objeto otimizador usando tf.keras.optimizer.Addam\n",
        "# Inclua seu código aqui\n",
        "#\n",
        "\n",
        "# Define objeto função de custo usando tf.keras.losses.BinaryCrossentropy\n",
        "# Inclua seu código aqui\n",
        "#\n",
        "\n",
        "# Define objeto métrica usando tf.keras.metrics.BinaryAccuracy\n",
        "# Inclua seu código aqui\n",
        "#"
      ]
    },
    {
      "cell_type": "markdown",
      "metadata": {
        "id": "Mc4OxR_1pwBV"
      },
      "source": [
        "Vamos avaliar a RNA não treinada para termos uma base do resultado esperado do treinamento. Execute as células a seguir para realizar essa avaliação."
      ]
    },
    {
      "cell_type": "code",
      "execution_count": null,
      "metadata": {
        "id": "BDYUZIr1pwBV"
      },
      "outputs": [],
      "source": [
        "# Calcula previsões da RNA não treinada\n",
        "outputs = rna.predict(X_test)\n",
        "\n",
        "# Calcula função de custo\n",
        "loss_value = loss_object(y_true=Y_test, y_pred=outputs)\n",
        "print(\"Custo antes do treinamento =\", loss_value.numpy())\n",
        "\n",
        "# Calcula métrica\n",
        "accuracy = metric_object(y_true=Y_test, y_pred=outputs)\n",
        "print(\"Métrica antes do treinamento =\", accuracy.numpy())"
      ]
    },
    {
      "cell_type": "markdown",
      "metadata": {
        "id": "isUlJaNGpwBV"
      },
      "source": [
        "**Saída esperada:**\n",
        "\n",
        "    Custo antes do treinamento = 0.766273\n",
        "    Métrica antes do treinamento = 0.16788322"
      ]
    },
    {
      "cell_type": "code",
      "execution_count": null,
      "metadata": {
        "id": "upMCIv2KpwBV"
      },
      "outputs": [],
      "source": [
        "# Importa funções para calcula matriz e confusão\n",
        "from sklearn.metrics import confusion_matrix\n",
        "import itertools\n",
        "\n",
        "# Define função para construir matriz de confusão\n",
        "def plot_confusion_matrix(y_true, y_pred, title='', labels=[0,1]):\n",
        "    cm = confusion_matrix(y_true, y_pred)\n",
        "    fig = plt.figure()\n",
        "    ax = fig.add_subplot(111)\n",
        "    cax = ax.matshow(cm)\n",
        "    plt.title(title)\n",
        "    fig.colorbar(cax)\n",
        "    ax.set_xticklabels([''] + labels)\n",
        "    ax.set_yticklabels([''] + labels)\n",
        "    plt.xlabel('Previsto')\n",
        "    plt.ylabel('Real')\n",
        "    fmt = 'd'\n",
        "    thresh = cm.max() / 2.\n",
        "    for i, j in itertools.product(range(cm.shape[0]), range(cm.shape[1])):\n",
        "          plt.text(j, i, format(cm[i, j], fmt),\n",
        "                  horizontalalignment=\"center\",\n",
        "                  color=\"black\" if cm[i, j] > thresh else \"white\")\n",
        "    plt.show()\n",
        "\n",
        "plot_confusion_matrix(Y_test, tf.round(outputs), title='Matriz de confusão gerada pela RNA não treinada')"
      ]
    },
    {
      "cell_type": "markdown",
      "metadata": {
        "id": "qho6p1aYpwBV"
      },
      "source": [
        "# 5. Treinamento da RNA\n",
        "\n",
        "Para treinar essa RNA vamos criar um loop customizado usando a função `tf.GradientTape()`.\n",
        "\n",
        "\n",
        "### Exercício #6: Criar função para calcular gradientes e atualizar parâmetros\n",
        "\n",
        "Na célula abaixo crie um função que calcula o gradiente da função de custo em relação aos parâmetros da RNA e depois atualiza esses parâmetros usando o otimizador configurado anteriormente.\n",
        "\n",
        "Para acessar os parâmetros de um modelo do TensorFlow basta usar `model.trainable_weights`."
      ]
    },
    {
      "cell_type": "code",
      "execution_count": null,
      "metadata": {
        "id": "jlopMAqCpwBW"
      },
      "outputs": [],
      "source": [
        "# Para você fazer: criar função que calcula gradientes e atualiza parâmetros da RNA\n",
        "@tf.function()\n",
        "def apply_gradient(optimizer, loss_object, model, x, y):\n",
        "    '''\n",
        "    Função para calcular o gradinet e atualizar os parâmetros da RNA\n",
        "\n",
        "    Argumentos:\n",
        "        optimizer: otimizador configurado para atualizar os parâmetros\n",
        "        loss_object: função de custo configurada anteriormente\n",
        "        model: RNA que está sendo treinada\n",
        "        x: tensor com os dados de entrada de treinamento\n",
        "        y: saídas desejadas dos dados de treinamento\n",
        "\n",
        "    Retorna:\n",
        "        logits = saídas previstas pela RNA\n",
        "        loss_value = valor da função de custo\n",
        "    '''\n",
        "\n",
        "    # Inclua seu código aqui\n",
        "    #\n",
        "\n",
        "    return logits, loss_value"
      ]
    },
    {
      "cell_type": "markdown",
      "metadata": {
        "id": "Pk0qO-IcpwBW"
      },
      "source": [
        "Execute a célula abaixo para testar a sua função `apply_gradient()`."
      ]
    },
    {
      "cell_type": "code",
      "execution_count": null,
      "metadata": {
        "id": "POuvhC_fpwBW"
      },
      "outputs": [],
      "source": [
        "# Cria nova RNA iagual a configurada\n",
        "test_model = rna\n",
        "\n",
        "# Calcula saída prevista e função de custo\n",
        "test_logits, test_loss = apply_gradient(optimizer, loss_object, test_model, X_test, Y_test)\n",
        "\n",
        "print('Primeiras 5 saídas:', test_logits.numpy()[:5])\n",
        "print('\\nFunção de custo =', test_loss.numpy())\n",
        "\n",
        "del test_model\n",
        "del test_logits\n",
        "del test_loss"
      ]
    },
    {
      "cell_type": "markdown",
      "metadata": {
        "id": "rTTI1AMUpwBW"
      },
      "source": [
        "**Saída esperada:**\n",
        "\n",
        "    Primeiras 5 saídas: [[0.57383853]\n",
        "     [0.53157353]\n",
        "     [0.43801865]\n",
        "     [0.47596937]\n",
        "     [0.4938018 ]]\n",
        "    \n",
        "    Função de custo = 0.6647787"
      ]
    },
    {
      "cell_type": "markdown",
      "metadata": {
        "id": "fLrHmjPwpwBW"
      },
      "source": [
        "### Exercício #7: Cálculo da função de custo e métrica para os dados de validação\n",
        "\n",
        "No final de cada época de treinamento, temos que validar a RNA no conjunto de dados de teste. Crie uma função que calcula a função de custo e a métrica para os dados validação."
      ]
    },
    {
      "cell_type": "code",
      "execution_count": null,
      "metadata": {
        "id": "RPjv3H6npwBW"
      },
      "outputs": [],
      "source": [
        "# Para você fazer: função para calcular custo e métrica dos dados de validação\n",
        "\n",
        "# Função para calcular custo e métrica dos dados de validação\n",
        "@tf.function()\n",
        "def perform_validation(model, x_val, y_val):\n",
        "    #Calcula custo dos dados de validação\n",
        "    # Inclua seu código aqui\n",
        "    #\n",
        "\n",
        "    # Calcula classes arredondando as saídas previstas (valores iguais a 0 ou 1)\n",
        "    # Inclua seu código aqui\n",
        "    #\n",
        "\n",
        "    # Calcula métrica para dados de validação\n",
        "    # Inclua seu código aqui\n",
        "    #\n",
        "\n",
        "    return val_loss, val_accuracy"
      ]
    },
    {
      "cell_type": "markdown",
      "metadata": {
        "id": "gm7sgWaupwBW"
      },
      "source": [
        "Execute a célula abaixo para testar a sua função `perform_validation()`."
      ]
    },
    {
      "cell_type": "code",
      "execution_count": null,
      "metadata": {
        "id": "Wv2_bCofpwBW"
      },
      "outputs": [],
      "source": [
        "val_loss, val_accuracy = perform_validation(rna, X_test, Y_test)\n",
        "\n",
        "print('Função de custo para os dados de teste =', val_loss.numpy())\n",
        "print('Exatidão para os dados de teste =', val_accuracy.numpy())"
      ]
    },
    {
      "cell_type": "markdown",
      "metadata": {
        "id": "dmnEiGorpwBW"
      },
      "source": [
        "**Saída esperada:**\n",
        "\n",
        "    Função de custo para os dados de teste = 0.7662731\n",
        "    Exatidão para os dados de teste = 0.16788322"
      ]
    },
    {
      "cell_type": "markdown",
      "metadata": {
        "id": "4qxgt_u7pwBW"
      },
      "source": [
        "### Exercício #8: Loop e treinamento customizado\n",
        "\n",
        "Usando a função `apply_gradient()` vamos criar um loop de treinamemto customizado. Utilize 1000 épocas de treinamento.\n"
      ]
    },
    {
      "cell_type": "code",
      "execution_count": null,
      "metadata": {
        "id": "FUx17nxlpwBW"
      },
      "outputs": [],
      "source": [
        "# Para você fazer: Loop de treinamento customizado\n",
        "\n",
        "# Define número de épocas\n",
        "num_epocas = 1000\n",
        "\n",
        "# Loop de treinamento\n",
        "for i in range(num_epocas):\n",
        "    # Calcula gradientes e atualiza parâmetros da RNA\n",
        "    # Inclua seu código aqui\n",
        "    #\n",
        "\n",
        "    # Calcula métrica para dados de treinamento\n",
        "    # Inclua seu código aqui\n",
        "    #\n",
        "\n",
        "    # Calcula função de custo e métrica para dados de validação\n",
        "    # Inclua seu código aqui\n",
        "    #\n",
        "\n",
        "    # Imprime resultado da função de custo e métrica da época\n",
        "    if i % 100 == 0:\n",
        "        print('Época:', i, '-', 'custo =', loss_value.numpy(), '-', 'exatidão =', accuracy.numpy(), '-', 'custo_val =', val_loss.numpy(), '-', 'val_exatidão =', val_accuracy.numpy())\n",
        "\n",
        "# Imprime resultado final\n",
        "print('\\nCusto final =', loss_value.numpy())\n",
        "print('Exatidão final=', accuracy.numpy())\n",
        "print('\\nCusto final de validação =', val_loss.numpy())\n",
        "print('Exatidão final de validação =', val_accuracy.numpy())"
      ]
    },
    {
      "cell_type": "markdown",
      "metadata": {
        "id": "n6E4CurppwBW"
      },
      "source": [
        "**Saída esperada:**\n",
        "\n",
        "    Época: 0 - custo = 0.68436486 - exatidão = 0.34634146 - custo_val = 0.6501663 - val_exatidão = 0.3448276\n",
        "    Época: 100 - custo = 0.058527242 - exatidão = 0.9515191 - custo_val = 0.080492094 - val_exatidão = 0.9515428\n",
        "    Época: 200 - custo = 0.03760329 - exatidão = 0.96556544 - custo_val = 0.07935773 - val_exatidão = 0.9655706\n",
        "    Época: 300 - custo = 0.018621787 - exatidão = 0.9716702 - custo_val = 0.09142268 - val_exatidão = 0.97165996\n",
        "    Época: 400 - custo = 0.008029577 - exatidão = 0.9759616 - custo_val = 0.11785624 - val_exatidão = 0.97595173\n",
        "    Época: 500 - custo = 0.0036735435 - exatidão = 0.9789992 - custo_val = 0.14663258 - val_exatidão = 0.9789901\n",
        "    Época: 600 - custo = 0.0019131048 - exatidão = 0.9810311 - custo_val = 0.17128268 - val_exatidão = 0.98102283\n",
        "    Época: 700 - custo = 0.0011265007 - exatidão = 0.9824835 - custo_val = 0.19244863 - val_exatidão = 0.982476\n",
        "    Época: 800 - custo = 0.00072901906 - exatidão = 0.983407 - custo_val = 0.21075746 - val_exatidão = 0.9833984\n",
        "    Época: 900 - custo = 0.0005036661 - exatidão = 0.984111 - custo_val = 0.2269108 - val_exatidão = 0.98410314\n",
        "    \n",
        "    Custo final = 0.0003456268\n",
        "    Exatidão final= 0.98466927\n",
        "\n",
        "    Custo final de validação = 0.24358612\n",
        "    Exatidão final de validação = 0.98466206"
      ]
    },
    {
      "cell_type": "markdown",
      "metadata": {
        "id": "yANjfJLJpwBW"
      },
      "source": [
        "## 7. Avaliação e teste da RNA\n",
        "\n",
        "### Exercício #9: Cálculo da função de custo e métrica para os dados de teste\n",
        "\n",
        "Na célula abaixo calcule a função de custo e a métrica para os dados de teste."
      ]
    },
    {
      "cell_type": "code",
      "execution_count": null,
      "metadata": {
        "id": "TUScS3GbtPXt"
      },
      "outputs": [],
      "source": [
        "#Para você fazer: cálculo da função de custo e métrica para os dados de teste\n",
        "\n",
        "# Calcula saída prevista para os dados de teste\n",
        "# Inclua seu código aqui\n",
        "#\n",
        "\n",
        "# Calcula função de custo para os dados de teste\n",
        "# Inclua seu código aqui\n",
        "#\n",
        "\n",
        "# Calcula métrica para os dados de teste\n",
        "# Inclua seu código aqui\n",
        "#\n",
        "\n",
        "print(\"Custo =\", loss_value.numpy())\n",
        "print(\"Exatidão =\", metric_value.numpy())"
      ]
    },
    {
      "cell_type": "markdown",
      "metadata": {
        "id": "UvhH7bhPpwBW"
      },
      "source": [
        "**Saída esperada:**\n",
        "\n",
        "    Custo = 0.24358612\n",
        "    Exatidão = 0.9846549"
      ]
    },
    {
      "cell_type": "markdown",
      "metadata": {
        "id": "jPPb5ewkzMBY"
      },
      "source": [
        "Execute a célula abaixo para calcular a matriz de confusão para a RNA treinada."
      ]
    },
    {
      "cell_type": "code",
      "execution_count": null,
      "metadata": {
        "id": "FApnBUNWv-ZR"
      },
      "outputs": [],
      "source": [
        "plot_confusion_matrix(Y_test, tf.round(outputs), title='Matriz de confusão da RNA treinada')"
      ]
    },
    {
      "cell_type": "markdown",
      "metadata": {
        "id": "dIz-3BNHpwBX"
      },
      "source": [
        "- Observa-se que o resultado da RNA é bastante satisfatório, sendo que apenas algumas amostras são classificadas erradas.\n",
        "\n",
        "- Cerca de 96% das amostra são classificadas corretamente."
      ]
    },
    {
      "cell_type": "code",
      "execution_count": null,
      "metadata": {
        "id": "drtD-Pg6pwBX"
      },
      "outputs": [],
      "source": []
    }
  ],
  "metadata": {
    "coursera": {
      "schema_names": [
        "TF3C2W2-1",
        "TF3C2W2-2",
        "TF3C2W2-3"
      ]
    },
    "kernelspec": {
      "display_name": "Python 3",
      "language": "python",
      "name": "python3"
    },
    "language_info": {
      "codemirror_mode": {
        "name": "ipython",
        "version": 3
      },
      "file_extension": ".py",
      "mimetype": "text/x-python",
      "name": "python",
      "nbconvert_exporter": "python",
      "pygments_lexer": "ipython3",
      "version": "3.8.8"
    },
    "colab": {
      "provenance": []
    }
  },
  "nbformat": 4,
  "nbformat_minor": 0
}